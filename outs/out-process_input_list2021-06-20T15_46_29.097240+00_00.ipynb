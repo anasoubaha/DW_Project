{
 "cells": [
  {
   "cell_type": "code",
   "execution_count": 1,
   "id": "1d5f6795",
   "metadata": {
    "execution": {
     "iopub.execute_input": "2021-06-20T15:49:00.555086Z",
     "iopub.status.busy": "2021-06-20T15:49:00.554177Z",
     "iopub.status.idle": "2021-06-20T15:49:00.557257Z",
     "shell.execute_reply": "2021-06-20T15:49:00.556779Z"
    },
    "jupyter": {
     "source_hidden": true
    },
    "papermill": {
     "duration": 0.035115,
     "end_time": "2021-06-20T15:49:00.557383",
     "exception": false,
     "start_time": "2021-06-20T15:49:00.522268",
     "status": "completed"
    },
    "tags": [
     "injected-parameters"
    ]
   },
   "outputs": [],
   "source": [
    "# Parameters\n",
    "msgs = \"Ran from Airflow at 2021-06-20T15:46:29.097240+00:00!\"\n"
   ]
  },
  {
   "cell_type": "code",
   "execution_count": 2,
   "id": "13c6f718",
   "metadata": {
    "execution": {
     "iopub.execute_input": "2021-06-20T15:49:00.586299Z",
     "iopub.status.busy": "2021-06-20T15:49:00.585437Z",
     "iopub.status.idle": "2021-06-20T15:49:00.981464Z",
     "shell.execute_reply": "2021-06-20T15:49:00.981906Z"
    },
    "jupyter": {
     "source_hidden": true
    },
    "papermill": {
     "duration": 0.412092,
     "end_time": "2021-06-20T15:49:00.982061",
     "exception": false,
     "start_time": "2021-06-20T15:49:00.569969",
     "status": "completed"
    },
    "tags": []
   },
   "outputs": [],
   "source": [
    "import pandas as pd\n",
    "import psycopg2\n",
    "import os\n",
    "import json\n",
    "import datetime"
   ]
  },
  {
   "cell_type": "code",
   "execution_count": 3,
   "id": "f49514fe",
   "metadata": {
    "execution": {
     "iopub.execute_input": "2021-06-20T15:49:01.012056Z",
     "iopub.status.busy": "2021-06-20T15:49:01.010765Z",
     "iopub.status.idle": "2021-06-20T15:49:01.014311Z",
     "shell.execute_reply": "2021-06-20T15:49:01.013859Z"
    },
    "jupyter": {
     "source_hidden": true
    },
    "papermill": {
     "duration": 0.020283,
     "end_time": "2021-06-20T15:49:01.014425",
     "exception": false,
     "start_time": "2021-06-20T15:49:00.994142",
     "status": "completed"
    },
    "tags": []
   },
   "outputs": [
    {
     "name": "stdout",
     "output_type": "stream",
     "text": [
      "Config: {'database': 'datamart', 'user': 'postgres', 'password': 'intelrebel', 'host': 'localhost', 'port': '5432'}\n"
     ]
    }
   ],
   "source": [
    "with open(\"/home/anas/notebook/UseCase/config.json\") as f:\n",
    "    config = json.load(f)\n",
    "print(\"Config:\",config)"
   ]
  },
  {
   "cell_type": "code",
   "execution_count": 4,
   "id": "d9d40102",
   "metadata": {
    "execution": {
     "iopub.execute_input": "2021-06-20T15:49:01.042064Z",
     "iopub.status.busy": "2021-06-20T15:49:01.041156Z",
     "iopub.status.idle": "2021-06-20T15:49:01.044813Z",
     "shell.execute_reply": "2021-06-20T15:49:01.045252Z"
    },
    "jupyter": {
     "source_hidden": true
    },
    "papermill": {
     "duration": 0.019508,
     "end_time": "2021-06-20T15:49:01.045381",
     "exception": false,
     "start_time": "2021-06-20T15:49:01.025873",
     "status": "completed"
    },
    "tags": []
   },
   "outputs": [
    {
     "name": "stdout",
     "output_type": "stream",
     "text": [
      "will process: /home/anas/notebook/UseCase/input/meetingAttendanceReport(General)(5).csv\n"
     ]
    }
   ],
   "source": [
    "#read config file in input\n",
    "with open(\"/home/anas/notebook/UseCase/input_config.txt\") as f:\n",
    "    input_file=f.readline()\n",
    "print(\"will process:\",input_file)"
   ]
  },
  {
   "cell_type": "code",
   "execution_count": 5,
   "id": "6d2ea9e2",
   "metadata": {
    "execution": {
     "iopub.execute_input": "2021-06-20T15:49:01.074377Z",
     "iopub.status.busy": "2021-06-20T15:49:01.073515Z",
     "iopub.status.idle": "2021-06-20T15:49:01.077188Z",
     "shell.execute_reply": "2021-06-20T15:49:01.076728Z"
    },
    "jupyter": {
     "source_hidden": true
    },
    "papermill": {
     "duration": 0.020242,
     "end_time": "2021-06-20T15:49:01.077311",
     "exception": false,
     "start_time": "2021-06-20T15:49:01.057069",
     "status": "completed"
    },
    "tags": []
   },
   "outputs": [],
   "source": [
    "meta_data=[]\n",
    "log_call=[]\n",
    "lines=[]\n",
    "with open(input_file,encoding=\"utf-16\") as f:\n",
    "    lines=f.readlines()\n",
    "meta_data=lines[0:5]\n",
    "log_call=lines[6:]"
   ]
  },
  {
   "cell_type": "code",
   "execution_count": 6,
   "id": "03a595c6",
   "metadata": {
    "execution": {
     "iopub.execute_input": "2021-06-20T15:49:01.111097Z",
     "iopub.status.busy": "2021-06-20T15:49:01.110321Z",
     "iopub.status.idle": "2021-06-20T15:49:01.113390Z",
     "shell.execute_reply": "2021-06-20T15:49:01.113926Z"
    },
    "jupyter": {
     "source_hidden": true
    },
    "papermill": {
     "duration": 0.024897,
     "end_time": "2021-06-20T15:49:01.114061",
     "exception": false,
     "start_time": "2021-06-20T15:49:01.089164",
     "status": "completed"
    },
    "scrolled": true,
    "tags": []
   },
   "outputs": [
    {
     "data": {
      "text/plain": [
       "'DWH'"
      ]
     },
     "execution_count": 6,
     "metadata": {},
     "output_type": "execute_result"
    }
   ],
   "source": [
    "course = \"DWH\"\n",
    "course"
   ]
  },
  {
   "cell_type": "code",
   "execution_count": 7,
   "id": "7c932598",
   "metadata": {
    "execution": {
     "iopub.execute_input": "2021-06-20T15:49:01.148588Z",
     "iopub.status.busy": "2021-06-20T15:49:01.147667Z",
     "iopub.status.idle": "2021-06-20T15:49:01.169855Z",
     "shell.execute_reply": "2021-06-20T15:49:01.169387Z"
    },
    "jupyter": {
     "source_hidden": true
    },
    "papermill": {
     "duration": 0.04187,
     "end_time": "2021-06-20T15:49:01.169983",
     "exception": false,
     "start_time": "2021-06-20T15:49:01.128113",
     "status": "completed"
    },
    "tags": []
   },
   "outputs": [
    {
     "data": {
      "text/html": [
       "<div>\n",
       "<style scoped>\n",
       "    .dataframe tbody tr th:only-of-type {\n",
       "        vertical-align: middle;\n",
       "    }\n",
       "\n",
       "    .dataframe tbody tr th {\n",
       "        vertical-align: top;\n",
       "    }\n",
       "\n",
       "    .dataframe thead th {\n",
       "        text-align: right;\n",
       "    }\n",
       "</style>\n",
       "<table border=\"1\" class=\"dataframe\">\n",
       "  <thead>\n",
       "    <tr style=\"text-align: right;\">\n",
       "      <th></th>\n",
       "      <th>Nom complet</th>\n",
       "      <th>Heure d'arrivée</th>\n",
       "      <th>Heure de départ</th>\n",
       "      <th>Durée</th>\n",
       "      <th>E-mail</th>\n",
       "      <th>Rôle</th>\n",
       "    </tr>\n",
       "  </thead>\n",
       "  <tbody>\n",
       "    <tr>\n",
       "      <th>0</th>\n",
       "      <td>Imade BENELALLAM</td>\n",
       "      <td>05/05/2021 à 13:02:19</td>\n",
       "      <td>05/05/2021 à 14:51:19</td>\n",
       "      <td>1 h 49 m</td>\n",
       "      <td>i.benelallam@insea.ac.ma</td>\n",
       "      <td>Organisateur</td>\n",
       "    </tr>\n",
       "    <tr>\n",
       "      <th>1</th>\n",
       "      <td>Imade BENELALLAM</td>\n",
       "      <td>05/05/2021 à 15:34:11</td>\n",
       "      <td>05/05/2021 à 16:17:37</td>\n",
       "      <td>43 m 25 s</td>\n",
       "      <td>i.benelallam@insea.ac.ma</td>\n",
       "      <td>Organisateur</td>\n",
       "    </tr>\n",
       "    <tr>\n",
       "      <th>2</th>\n",
       "      <td>Chaimaa BELKARKOR</td>\n",
       "      <td>05/05/2021 à 13:02:43</td>\n",
       "      <td>05/05/2021 à 16:17:41</td>\n",
       "      <td>3 h 14 m</td>\n",
       "      <td>cbelkarkor@insea.ac.ma</td>\n",
       "      <td>Présentateur</td>\n",
       "    </tr>\n",
       "    <tr>\n",
       "      <th>3</th>\n",
       "      <td>Zakariae JAAFARI</td>\n",
       "      <td>05/05/2021 à 13:02:45</td>\n",
       "      <td>05/05/2021 à 14:50:16</td>\n",
       "      <td>1 h 47 m</td>\n",
       "      <td>zjaafari@insea.ac.ma</td>\n",
       "      <td>Présentateur</td>\n",
       "    </tr>\n",
       "    <tr>\n",
       "      <th>4</th>\n",
       "      <td>Amina EZZOUINE</td>\n",
       "      <td>05/05/2021 à 13:03:00</td>\n",
       "      <td>05/05/2021 à 14:51:00</td>\n",
       "      <td>1 h 47 m</td>\n",
       "      <td>aezzouine@insea.ac.ma</td>\n",
       "      <td>Présentateur</td>\n",
       "    </tr>\n",
       "    <tr>\n",
       "      <th>...</th>\n",
       "      <td>...</td>\n",
       "      <td>...</td>\n",
       "      <td>...</td>\n",
       "      <td>...</td>\n",
       "      <td>...</td>\n",
       "      <td>...</td>\n",
       "    </tr>\n",
       "    <tr>\n",
       "      <th>56</th>\n",
       "      <td>Oussama YOUSR</td>\n",
       "      <td>05/05/2021 à 13:55:52</td>\n",
       "      <td>05/05/2021 à 14:37:09</td>\n",
       "      <td>41 m 17 s</td>\n",
       "      <td>oyousr@insea.ac.ma</td>\n",
       "      <td>Présentateur</td>\n",
       "    </tr>\n",
       "    <tr>\n",
       "      <th>57</th>\n",
       "      <td>Mohamed AGOURAM</td>\n",
       "      <td>05/05/2021 à 14:17:13</td>\n",
       "      <td>05/05/2021 à 14:27:31</td>\n",
       "      <td>10 m 17 s</td>\n",
       "      <td>magouram@insea.ac.ma</td>\n",
       "      <td>Présentateur</td>\n",
       "    </tr>\n",
       "    <tr>\n",
       "      <th>58</th>\n",
       "      <td>Youness MOUZAKI</td>\n",
       "      <td>05/05/2021 à 14:22:00</td>\n",
       "      <td>05/05/2021 à 14:50:07</td>\n",
       "      <td>28 m 7 s</td>\n",
       "      <td>ymouzaki@insea.ac.ma</td>\n",
       "      <td>Présentateur</td>\n",
       "    </tr>\n",
       "    <tr>\n",
       "      <th>59</th>\n",
       "      <td>Sabah BOUKILI</td>\n",
       "      <td>05/05/2021 à 14:47:58</td>\n",
       "      <td>05/05/2021 à 14:54:25</td>\n",
       "      <td>6 m 26 s</td>\n",
       "      <td>sboukili@insea.ac.ma</td>\n",
       "      <td>Présentateur</td>\n",
       "    </tr>\n",
       "    <tr>\n",
       "      <th>60</th>\n",
       "      <td>Hajar CHAFAI</td>\n",
       "      <td>05/05/2021 à 15:55:29</td>\n",
       "      <td>05/05/2021 à 16:17:41</td>\n",
       "      <td>22 m 12 s</td>\n",
       "      <td>hchafai@insea.ac.ma</td>\n",
       "      <td>Présentateur</td>\n",
       "    </tr>\n",
       "  </tbody>\n",
       "</table>\n",
       "<p>61 rows × 6 columns</p>\n",
       "</div>"
      ],
      "text/plain": [
       "          Nom complet        Heure d'arrivée        Heure de départ  \\\n",
       "0    Imade BENELALLAM  05/05/2021 à 13:02:19  05/05/2021 à 14:51:19   \n",
       "1    Imade BENELALLAM  05/05/2021 à 15:34:11  05/05/2021 à 16:17:37   \n",
       "2   Chaimaa BELKARKOR  05/05/2021 à 13:02:43  05/05/2021 à 16:17:41   \n",
       "3    Zakariae JAAFARI  05/05/2021 à 13:02:45  05/05/2021 à 14:50:16   \n",
       "4      Amina EZZOUINE  05/05/2021 à 13:03:00  05/05/2021 à 14:51:00   \n",
       "..                ...                    ...                    ...   \n",
       "56      Oussama YOUSR  05/05/2021 à 13:55:52  05/05/2021 à 14:37:09   \n",
       "57    Mohamed AGOURAM  05/05/2021 à 14:17:13  05/05/2021 à 14:27:31   \n",
       "58    Youness MOUZAKI  05/05/2021 à 14:22:00  05/05/2021 à 14:50:07   \n",
       "59      Sabah BOUKILI  05/05/2021 à 14:47:58  05/05/2021 à 14:54:25   \n",
       "60       Hajar CHAFAI  05/05/2021 à 15:55:29  05/05/2021 à 16:17:41   \n",
       "\n",
       "        Durée                    E-mail          Rôle  \n",
       "0    1 h 49 m  i.benelallam@insea.ac.ma  Organisateur  \n",
       "1   43 m 25 s  i.benelallam@insea.ac.ma  Organisateur  \n",
       "2    3 h 14 m    cbelkarkor@insea.ac.ma  Présentateur  \n",
       "3    1 h 47 m      zjaafari@insea.ac.ma  Présentateur  \n",
       "4    1 h 47 m     aezzouine@insea.ac.ma  Présentateur  \n",
       "..        ...                       ...           ...  \n",
       "56  41 m 17 s        oyousr@insea.ac.ma  Présentateur  \n",
       "57  10 m 17 s      magouram@insea.ac.ma  Présentateur  \n",
       "58   28 m 7 s      ymouzaki@insea.ac.ma  Présentateur  \n",
       "59   6 m 26 s      sboukili@insea.ac.ma  Présentateur  \n",
       "60  22 m 12 s       hchafai@insea.ac.ma  Présentateur  \n",
       "\n",
       "[61 rows x 6 columns]"
      ]
     },
     "execution_count": 7,
     "metadata": {},
     "output_type": "execute_result"
    }
   ],
   "source": [
    "with open(f\"/home/anas/notebook/UseCase/output/log_{input_file.split('/')[-1]}\",\"w\") as f:\n",
    "    for value in log_call:\n",
    "        f.write(value)\n",
    "    f.close()\n",
    "df_log = pd.read_csv(f\"/home/anas/notebook/UseCase/output/log_{input_file.split('/')[-1]}\",sep=\"\\t\")\n",
    "df_log"
   ]
  },
  {
   "cell_type": "code",
   "execution_count": 8,
   "id": "7f7b9fa1",
   "metadata": {
    "execution": {
     "iopub.execute_input": "2021-06-20T15:49:01.202834Z",
     "iopub.status.busy": "2021-06-20T15:49:01.201986Z",
     "iopub.status.idle": "2021-06-20T15:49:01.204304Z",
     "shell.execute_reply": "2021-06-20T15:49:01.204722Z"
    },
    "jupyter": {
     "source_hidden": true
    },
    "papermill": {
     "duration": 0.021928,
     "end_time": "2021-06-20T15:49:01.204858",
     "exception": false,
     "start_time": "2021-06-20T15:49:01.182930",
     "status": "completed"
    },
    "tags": []
   },
   "outputs": [],
   "source": [
    "start_str = meta_data[3].replace(\"Heure de début de la réunion\\t\",\"\").replace(\"\\n\",\"\").replace(\" à\",\"\")\n",
    "end_str   = meta_data[4].replace(\"Heure de fin\\t\",\"\").replace(\"\\n\",\"\").replace(\" à\",\"\")\n",
    "start_course = datetime.datetime.strptime(start_str, '%d/%m/%Y %H:%M:%S')\n",
    "end_course = datetime.datetime.strptime(end_str, '%d/%m/%Y %H:%M:%S')"
   ]
  },
  {
   "cell_type": "code",
   "execution_count": 9,
   "id": "74c1959a",
   "metadata": {
    "execution": {
     "iopub.execute_input": "2021-06-20T15:49:01.236895Z",
     "iopub.status.busy": "2021-06-20T15:49:01.235918Z",
     "iopub.status.idle": "2021-06-20T15:49:01.254494Z",
     "shell.execute_reply": "2021-06-20T15:49:01.254052Z"
    },
    "jupyter": {
     "source_hidden": true
    },
    "papermill": {
     "duration": 0.036949,
     "end_time": "2021-06-20T15:49:01.254617",
     "exception": false,
     "start_time": "2021-06-20T15:49:01.217668",
     "status": "completed"
    },
    "scrolled": true,
    "tags": []
   },
   "outputs": [
    {
     "name": "stdout",
     "output_type": "stream",
     "text": [
      "id_time : integer\n",
      "id_prof : integer\n",
      "id_student : integer\n",
      "nb_abs : integer\n",
      "abs_duration : double precision\n",
      "nb_lates : integer\n",
      "nb_pres : integer\n",
      "duration : integer\n"
     ]
    }
   ],
   "source": [
    "mydb = psycopg2.connect(database=config[\"database\"], user=config[\"user\"], password=config[\"password\"], host=config[\"host\"], port=config[\"port\"], options=f'-c search_path=biabsence')\n",
    "mycursor = mydb.cursor()\n",
    "table=\"fact_table\"\n",
    "mycursor.execute(f\"SELECT * FROM information_schema.columns WHERE table_schema = 'biabsence' AND table_name   = '{table}' ;\")\n",
    "myresult = mycursor.fetchall()\n",
    "for value in myresult:\n",
    "    print(value[3],\":\",value[7])"
   ]
  },
  {
   "cell_type": "code",
   "execution_count": 10,
   "id": "f0b1542d",
   "metadata": {
    "execution": {
     "iopub.execute_input": "2021-06-20T15:49:01.295941Z",
     "iopub.status.busy": "2021-06-20T15:49:01.295009Z",
     "iopub.status.idle": "2021-06-20T15:49:01.297237Z",
     "shell.execute_reply": "2021-06-20T15:49:01.297677Z"
    },
    "jupyter": {
     "source_hidden": true
    },
    "papermill": {
     "duration": 0.029795,
     "end_time": "2021-06-20T15:49:01.297813",
     "exception": false,
     "start_time": "2021-06-20T15:49:01.268018",
     "status": "completed"
    },
    "tags": []
   },
   "outputs": [],
   "source": [
    "def add_student(name,gender,email,course,major):\n",
    "    mydb = psycopg2.connect(database=config[\"database\"], user=config[\"user\"], password=config[\"password\"], host=config[\"host\"], port=config[\"port\"], options=f'-c search_path=biabsence')\n",
    "    mycursor = mydb.cursor()\n",
    "    mycursor.execute(f\"SELECT * FROM students where email ='{email}'\")\n",
    "    myresult = mycursor.fetchall()\n",
    "    if len(myresult) != 0:\n",
    "        return myresult[0][0]\n",
    "    if len(myresult) == 0:\n",
    "        sql = \"INSERT INTO students (name,gender,email,course,major) VALUES (%s,%s,%s,%s,%s)\"\n",
    "        val = (name,gender,email,course,major)\n",
    "        mycursor.execute(sql, val)\n",
    "        mydb.commit()\n",
    "        # print(mycursor.rowcount, \"record inserted.\")\n",
    "        mycursor.execute(f\"SELECT * FROM students where email ='{email}'\")\n",
    "        myresult = mycursor.fetchall()\n",
    "        return myresult[0][0]\n",
    "    \n",
    "def add_professor(name,email):\n",
    "    mydb = psycopg2.connect(database=config[\"database\"], user=config[\"user\"], password=config[\"password\"], host=config[\"host\"], port=config[\"port\"], options=f'-c search_path=biabsence')\n",
    "    mycursor = mydb.cursor()\n",
    "    mycursor.execute(f\"SELECT * FROM professors where email ='{email}'\")\n",
    "    myresult = mycursor.fetchall()\n",
    "    if len(myresult) != 0:\n",
    "        return myresult[0][0]\n",
    "    if len(myresult) == 0:\n",
    "        sql = \"INSERT INTO professors (name,email) VALUES (%s,%s)\"\n",
    "        val = (name,email)\n",
    "        mycursor.execute(sql, val)\n",
    "        mydb.commit()\n",
    "        # print(mycursor.rowcount, \"record inserted.\")\n",
    "        mycursor.execute(f\"SELECT * FROM professors where email ='{email}'\")\n",
    "        myresult = mycursor.fetchall()\n",
    "        return myresult[0][0]\n",
    "    \n",
    "def add_time(hour,day,month,year,date):\n",
    "    mydb = psycopg2.connect(database=config[\"database\"], user=config[\"user\"], password=config[\"password\"], host=config[\"host\"], port=config[\"port\"], options=f'-c search_path=biabsence')\n",
    "    mycursor = mydb.cursor()\n",
    "    mycursor.execute(f\"SELECT * FROM Time where year = {year} and month={month} and day={day} and hour={hour}\")\n",
    "    myresult = mycursor.fetchall()\n",
    "    if len(myresult) != 0:\n",
    "        return myresult[0][0]\n",
    "    if len(myresult) == 0:\n",
    "        sql = \"INSERT INTO time (hour,day,month,year,date) VALUES (%s,%s,%s,%s,%s)\"\n",
    "        val = (hour,day,month,year,date)\n",
    "        mycursor.execute(sql, val)\n",
    "        mydb.commit()\n",
    "        # print(mycursor.rowcount, \"record inserted.\")\n",
    "        mycursor.execute(f\"SELECT * FROM time where year = {year} and month={month} and day={day} and hour={hour}\")\n",
    "        myresult = mycursor.fetchall()\n",
    "        return myresult[0][0]"
   ]
  },
  {
   "cell_type": "code",
   "execution_count": 11,
   "id": "72ece278",
   "metadata": {
    "execution": {
     "iopub.execute_input": "2021-06-20T15:49:01.329728Z",
     "iopub.status.busy": "2021-06-20T15:49:01.328841Z",
     "iopub.status.idle": "2021-06-20T15:49:01.345796Z",
     "shell.execute_reply": "2021-06-20T15:49:01.346270Z"
    },
    "jupyter": {
     "source_hidden": true
    },
    "papermill": {
     "duration": 0.035192,
     "end_time": "2021-06-20T15:49:01.346406",
     "exception": false,
     "start_time": "2021-06-20T15:49:01.311214",
     "status": "completed"
    },
    "tags": []
   },
   "outputs": [
    {
     "data": {
      "text/plain": [
       "5"
      ]
     },
     "execution_count": 11,
     "metadata": {},
     "output_type": "execute_result"
    }
   ],
   "source": [
    "hour = start_course.hour\n",
    "day  = start_course.day\n",
    "month= start_course.month\n",
    "year = start_course.year\n",
    "date = start_course.strftime(\"%Y-%m-%d %H:%M:%S\")\n",
    "id_time=add_time(hour,day,month,year,date)\n",
    "id_time"
   ]
  },
  {
   "cell_type": "code",
   "execution_count": 12,
   "id": "43cfb06c",
   "metadata": {
    "execution": {
     "iopub.execute_input": "2021-06-20T15:49:01.380732Z",
     "iopub.status.busy": "2021-06-20T15:49:01.379798Z",
     "iopub.status.idle": "2021-06-20T15:49:01.400596Z",
     "shell.execute_reply": "2021-06-20T15:49:01.400142Z"
    },
    "jupyter": {
     "source_hidden": true
    },
    "papermill": {
     "duration": 0.038368,
     "end_time": "2021-06-20T15:49:01.400723",
     "exception": false,
     "start_time": "2021-06-20T15:49:01.362355",
     "status": "completed"
    },
    "scrolled": true,
    "tags": []
   },
   "outputs": [
    {
     "name": "stdout",
     "output_type": "stream",
     "text": [
      "professor: 1\n",
      "professor: 1\n"
     ]
    }
   ],
   "source": [
    "#ADD PROFESSOR FROM LOG TO TABLE\n",
    "for index, row in df_log.iterrows():\n",
    "    if row[\"Rôle\"]==\"Organisateur\":\n",
    "        name,email = row[\"Nom complet\"],row[\"E-mail\"]\n",
    "        id_prof = add_professor(name,email)\n",
    "        print(\"professor:\",id_prof)"
   ]
  },
  {
   "cell_type": "code",
   "execution_count": 13,
   "id": "f3708b92",
   "metadata": {
    "execution": {
     "iopub.execute_input": "2021-06-20T15:49:01.434185Z",
     "iopub.status.busy": "2021-06-20T15:49:01.433385Z",
     "iopub.status.idle": "2021-06-20T15:49:01.436107Z",
     "shell.execute_reply": "2021-06-20T15:49:01.435618Z"
    },
    "jupyter": {
     "source_hidden": true
    },
    "papermill": {
     "duration": 0.020879,
     "end_time": "2021-06-20T15:49:01.436228",
     "exception": false,
     "start_time": "2021-06-20T15:49:01.415349",
     "status": "completed"
    },
    "tags": []
   },
   "outputs": [],
   "source": [
    "groups = df_log.groupby(\"E-mail\")"
   ]
  },
  {
   "cell_type": "code",
   "execution_count": 14,
   "id": "7924aacf",
   "metadata": {
    "execution": {
     "iopub.execute_input": "2021-06-20T15:49:01.470827Z",
     "iopub.status.busy": "2021-06-20T15:49:01.469893Z",
     "iopub.status.idle": "2021-06-20T15:49:01.476650Z",
     "shell.execute_reply": "2021-06-20T15:49:01.477063Z"
    },
    "jupyter": {
     "source_hidden": true
    },
    "papermill": {
     "duration": 0.026708,
     "end_time": "2021-06-20T15:49:01.477203",
     "exception": false,
     "start_time": "2021-06-20T15:49:01.450495",
     "status": "completed"
    },
    "tags": []
   },
   "outputs": [],
   "source": [
    "mydb = psycopg2.connect(database=config[\"database\"], user=config[\"user\"], password=config[\"password\"], host=config[\"host\"], port=config[\"port\"], options=f'-c search_path=biabsence')\n",
    "mycursor = mydb.cursor()\n",
    "mycursor.execute(f\"SELECT * FROM students\")\n",
    "myresult = mycursor.fetchall()\n",
    "emails=[]\n",
    "for result in myresult:\n",
    "    emails.append(result[3])"
   ]
  },
  {
   "cell_type": "code",
   "execution_count": 15,
   "id": "98dcdaad",
   "metadata": {
    "execution": {
     "iopub.execute_input": "2021-06-20T15:49:01.510275Z",
     "iopub.status.busy": "2021-06-20T15:49:01.509676Z",
     "iopub.status.idle": "2021-06-20T15:49:01.512332Z",
     "shell.execute_reply": "2021-06-20T15:49:01.512865Z"
    },
    "jupyter": {
     "source_hidden": true
    },
    "papermill": {
     "duration": 0.02139,
     "end_time": "2021-06-20T15:49:01.512993",
     "exception": false,
     "start_time": "2021-06-20T15:49:01.491603",
     "status": "completed"
    },
    "tags": []
   },
   "outputs": [
    {
     "name": "stdout",
     "output_type": "stream",
     "text": [
      "195.45\n"
     ]
    }
   ],
   "source": [
    "print((end_course-start_course).total_seconds() / 60.0)"
   ]
  },
  {
   "cell_type": "code",
   "execution_count": 16,
   "id": "a5f68fe7",
   "metadata": {
    "execution": {
     "iopub.execute_input": "2021-06-20T15:49:01.561007Z",
     "iopub.status.busy": "2021-06-20T15:49:01.559900Z",
     "iopub.status.idle": "2021-06-20T15:49:02.670645Z",
     "shell.execute_reply": "2021-06-20T15:49:02.671090Z"
    },
    "jupyter": {
     "source_hidden": true
    },
    "papermill": {
     "duration": 1.143519,
     "end_time": "2021-06-20T15:49:02.671234",
     "exception": false,
     "start_time": "2021-06-20T15:49:01.527715",
     "status": "completed"
    },
    "scrolled": true,
    "tags": []
   },
   "outputs": [
    {
     "name": "stdout",
     "output_type": "stream",
     "text": [
      "student: 1\n",
      "not found 'yaitmha@insea.ac.ma'\n"
     ]
    },
    {
     "name": "stdout",
     "output_type": "stream",
     "text": [
      "not found 'seaouari@insea.ac.ma'\n",
      "not found 'satiche@insea.ac.ma'\n",
      "not found 'catraoui@insea.ac.ma'\n",
      "student: 6\n",
      "student: 7\n",
      "student: 8\n",
      "student: 9\n",
      "student: 10\n"
     ]
    },
    {
     "name": "stdout",
     "output_type": "stream",
     "text": [
      "not found 'tebouzelmad@insea.ac.ma'\n",
      "student: 12\n",
      "student: 13\n",
      "not found 'fdani@insea.ac.ma'\n"
     ]
    },
    {
     "name": "stdout",
     "output_type": "stream",
     "text": [
      "student: 15\n",
      "student: 16\n"
     ]
    },
    {
     "name": "stdout",
     "output_type": "stream",
     "text": [
      "student: 17\n",
      "not found 'aelkassmi@insea.ac.ma'\n",
      "not found 'selkhyati@insea.ac.ma'\n",
      "student: 20\n",
      "not found 'selmouslih@insea.ac.ma'\n",
      "not found 'helouafi@insea.ac.ma'\n",
      "student: 23\n",
      "not found 'mafarfaoua@insea.ac.ma'\n",
      "not found 'hgaoui@insea.ac.ma'\n",
      "not found 'hhabbouza@insea.ac.ma'\n"
     ]
    },
    {
     "name": "stdout",
     "output_type": "stream",
     "text": [
      "student: 27\n",
      "student: 28\n",
      "student: 29\n"
     ]
    },
    {
     "name": "stdout",
     "output_type": "stream",
     "text": [
      "student: 30\n",
      "not found 'alaachir@insea.ac.ma'\n"
     ]
    },
    {
     "name": "stdout",
     "output_type": "stream",
     "text": [
      "not found 'olamhamdialaoui@insea.ac.ma'\n",
      "not found 'smaatouf@insea.ac.ma'\n",
      "not found 'amakrane@insea.ac.ma'\n",
      "student: 35\n",
      "student: 36\n",
      "student: 37\n",
      "student: 38\n",
      "student: 39\n",
      "student: 40\n",
      "not found 'aramoudi@insea.ac.ma'\n"
     ]
    },
    {
     "name": "stdout",
     "output_type": "stream",
     "text": [
      "student: 42\n",
      "student: 43\n",
      "not found 'esoummer@insea.ac.ma'\n",
      "student: 45\n"
     ]
    },
    {
     "name": "stdout",
     "output_type": "stream",
     "text": [
      "student: 46\n",
      "not found 'yzouhri@insea.ac.ma'\n"
     ]
    },
    {
     "name": "stdout",
     "output_type": "stream",
     "text": [
      "not found 'amenani@insea.ac.ma'\n",
      "student: 49\n",
      "student: 50\n",
      "student: 51\n",
      "not found 'acheddad@insea.ac.ma'\n",
      "not found 'aelomairi@insea.ac.ma'\n",
      "student: 54\n",
      "not found 'aoussar@insea.ac.ma'\n",
      "not found 'ahamdi@insea.ac.ma'\n",
      "student: 57\n"
     ]
    },
    {
     "name": "stdout",
     "output_type": "stream",
     "text": [
      "student: 58\n",
      "student: 59\n",
      "student: 60\n",
      "not found 'hhoumane@insea.ac.ma'\n"
     ]
    },
    {
     "name": "stdout",
     "output_type": "stream",
     "text": [
      "not found 'hdah@insea.ac.ma'\n"
     ]
    },
    {
     "name": "stdout",
     "output_type": "stream",
     "text": [
      "student: 63\n",
      "student: 64\n",
      "not found 'ikonkobo@insea.ac.ma'\n",
      "not found 'ibelmezouar@insea.ac.ma'\n",
      "not found 'kbensetti@insea.ac.ma'\n",
      "not found 'yakhallouq@insea.ac.ma'\n",
      "not found 'mamallah@insea.ac.ma'\n",
      "student: 70\n",
      "not found 'msidibé@insea.ac.ma'\n"
     ]
    },
    {
     "name": "stdout",
     "output_type": "stream",
     "text": [
      "not found 'nchahboun@insea.ac.ma'\n",
      "student: 73\n",
      "not found 'selhairech@insea.ac.ma'\n",
      "student: 75\n",
      "student: 76\n"
     ]
    },
    {
     "name": "stdout",
     "output_type": "stream",
     "text": [
      "student: 77\n"
     ]
    },
    {
     "name": "stdout",
     "output_type": "stream",
     "text": [
      "not found 'yamaghouss@insea.ac.ma'\n",
      "not found 'ysadki@insea.ac.ma'\n"
     ]
    }
   ],
   "source": [
    "\n",
    "for email in emails:\n",
    "    name,gender,email,course,major = None,None,email,course,None\n",
    "    id_student=add_student(name,gender,email,course,major)\n",
    "    try:\n",
    "        data = groups.get_group(email).reset_index()\n",
    "        nb_abs = 0\n",
    "        #DURATION\n",
    "        duration=0\n",
    "        got_first_start=False\n",
    "        for index, row in data.iterrows():\n",
    "            start_str = row[\"Heure d'arrivée\"].replace(\" à\",\"\")\n",
    "            end_str   = row[\"Heure de départ\"].replace(\" à\",\"\")\n",
    "            start = datetime.datetime.strptime(start_str, '%d/%m/%Y %H:%M:%S')\n",
    "            end = datetime.datetime.strptime(end_str, '%d/%m/%Y %H:%M:%S')\n",
    "            duration = duration + ((end-start).total_seconds() / 60.0)\n",
    "            if not got_first_start:\n",
    "                got_first_start = True\n",
    "                first_start = start\n",
    "        if duration > 120:\n",
    "            duration=120\n",
    "        #NB LATES  \n",
    "        if ((first_start-start_course).total_seconds() / 60.0) > 15:\n",
    "            nb_lates = 1\n",
    "        else:\n",
    "            nb_lates = 0\n",
    "        \n",
    "        nb_pres = 1\n",
    "        \n",
    "        #ABS DURATION\n",
    "        abs_duration = 120-duration\n",
    "        \n",
    "        #DURATION IN INTEGER IN DB!\n",
    "        duration = int(duration)\n",
    "        \n",
    "        #is student\n",
    "        print(\"student:\",id_student)\n",
    "        if duration <= 15:\n",
    "            nb_abs = 1\n",
    "            nb_lates=0\n",
    "            nb_pres=0\n",
    "    \n",
    "    except KeyError as e:\n",
    "        print(\"not found\",e)\n",
    "        nb_abs = 1\n",
    "        abs_duration = 120\n",
    "        nb_lates=0\n",
    "        nb_pres=0\n",
    "        duration=0\n",
    "    #insert to data mart now\n",
    "    try:\n",
    "        mydb = psycopg2.connect(database=config[\"database\"], user=config[\"user\"], password=config[\"password\"], host=config[\"host\"], port=config[\"port\"], options=f'-c search_path=biabsence')\n",
    "        mycursor = mydb.cursor()\n",
    "        sql = \"INSERT INTO fact_table (id_time,id_prof,id_student,nb_abs,abs_duration,nb_lates,nb_pres,duration) VALUES (%s,%s,%s,%s,%s,%s,%s,%s)\"\n",
    "        val = (id_time,id_prof,id_student,nb_abs,abs_duration,nb_lates,nb_pres,duration)\n",
    "        mycursor.execute(sql, val)\n",
    "        mydb.commit()\n",
    "    except:\n",
    "        continue"
   ]
  },
  {
   "cell_type": "code",
   "execution_count": 17,
   "id": "0067bcb5",
   "metadata": {
    "execution": {
     "iopub.execute_input": "2021-06-20T15:49:02.718082Z",
     "iopub.status.busy": "2021-06-20T15:49:02.717147Z",
     "iopub.status.idle": "2021-06-20T15:49:02.725441Z",
     "shell.execute_reply": "2021-06-20T15:49:02.725892Z"
    },
    "jupyter": {
     "source_hidden": true
    },
    "papermill": {
     "duration": 0.035353,
     "end_time": "2021-06-20T15:49:02.726028",
     "exception": false,
     "start_time": "2021-06-20T15:49:02.690675",
     "status": "completed"
    },
    "tags": []
   },
   "outputs": [
    {
     "data": {
      "text/plain": [
       "0"
      ]
     },
     "execution_count": 17,
     "metadata": {},
     "output_type": "execute_result"
    }
   ],
   "source": [
    "os.system(f'mv \"{input_file}\" \"/home/anas/notebook/UseCase/processed/\"')"
   ]
  },
  {
   "cell_type": "code",
   "execution_count": null,
   "id": "a6a7deb4",
   "metadata": {
    "jupyter": {
     "source_hidden": true
    },
    "papermill": {
     "duration": 0.020703,
     "end_time": "2021-06-20T15:49:02.767085",
     "exception": false,
     "start_time": "2021-06-20T15:49:02.746382",
     "status": "completed"
    },
    "tags": []
   },
   "outputs": [],
   "source": []
  }
 ],
 "metadata": {
  "kernelspec": {
   "display_name": "Python 3",
   "language": "python",
   "name": "python3"
  },
  "language_info": {
   "codemirror_mode": {
    "name": "ipython",
    "version": 3
   },
   "file_extension": ".py",
   "mimetype": "text/x-python",
   "name": "python",
   "nbconvert_exporter": "python",
   "pygments_lexer": "ipython3",
   "version": "3.6.9"
  },
  "papermill": {
   "default_parameters": {},
   "duration": 3.915198,
   "end_time": "2021-06-20T15:49:03.095500",
   "environment_variables": {},
   "exception": null,
   "input_path": "/home/anas/notebook/UseCase/process_input_list.ipynb",
   "output_path": "/home/anas/notebook/UseCase/outs/out-process_input_list2021-06-20T15:46:29.097240+00:00.ipynb",
   "parameters": {
    "msgs": "Ran from Airflow at 2021-06-20T15:46:29.097240+00:00!"
   },
   "start_time": "2021-06-20T15:48:59.180302",
   "version": "2.3.3"
  }
 },
 "nbformat": 4,
 "nbformat_minor": 5
}