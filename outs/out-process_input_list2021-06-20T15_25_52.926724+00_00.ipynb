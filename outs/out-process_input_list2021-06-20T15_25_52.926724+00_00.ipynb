{
 "cells": [
  {
   "cell_type": "code",
   "execution_count": 1,
   "id": "13ed025f",
   "metadata": {
    "execution": {
     "iopub.execute_input": "2021-06-20T15:39:25.502839Z",
     "iopub.status.busy": "2021-06-20T15:39:25.501996Z",
     "iopub.status.idle": "2021-06-20T15:39:25.506654Z",
     "shell.execute_reply": "2021-06-20T15:39:25.507191Z"
    },
    "jupyter": {
     "source_hidden": true
    },
    "papermill": {
     "duration": 0.037146,
     "end_time": "2021-06-20T15:39:25.507356",
     "exception": false,
     "start_time": "2021-06-20T15:39:25.470210",
     "status": "completed"
    },
    "tags": [
     "injected-parameters"
    ]
   },
   "outputs": [],
   "source": [
    "# Parameters\n",
    "msgs = \"Ran from Airflow at 2021-06-20T15:25:52.926724+00:00!\"\n"
   ]
  },
  {
   "cell_type": "code",
   "execution_count": 2,
   "id": "13c6f718",
   "metadata": {
    "execution": {
     "iopub.execute_input": "2021-06-20T15:39:25.536707Z",
     "iopub.status.busy": "2021-06-20T15:39:25.535800Z",
     "iopub.status.idle": "2021-06-20T15:39:25.895039Z",
     "shell.execute_reply": "2021-06-20T15:39:25.894536Z"
    },
    "jupyter": {
     "source_hidden": true
    },
    "papermill": {
     "duration": 0.373119,
     "end_time": "2021-06-20T15:39:25.895178",
     "exception": false,
     "start_time": "2021-06-20T15:39:25.522059",
     "status": "completed"
    },
    "tags": []
   },
   "outputs": [],
   "source": [
    "import pandas as pd\n",
    "import psycopg2\n",
    "import os\n",
    "import json\n",
    "import datetime"
   ]
  },
  {
   "cell_type": "code",
   "execution_count": 3,
   "id": "f49514fe",
   "metadata": {
    "execution": {
     "iopub.execute_input": "2021-06-20T15:39:25.928646Z",
     "iopub.status.busy": "2021-06-20T15:39:25.924674Z",
     "iopub.status.idle": "2021-06-20T15:39:25.933766Z",
     "shell.execute_reply": "2021-06-20T15:39:25.933293Z"
    },
    "jupyter": {
     "source_hidden": true
    },
    "papermill": {
     "duration": 0.02677,
     "end_time": "2021-06-20T15:39:25.933880",
     "exception": false,
     "start_time": "2021-06-20T15:39:25.907110",
     "status": "completed"
    },
    "tags": []
   },
   "outputs": [
    {
     "name": "stdout",
     "output_type": "stream",
     "text": [
      "Config: {'database': 'datamart', 'user': 'postgres', 'password': 'intelrebel', 'host': 'localhost', 'port': '5432'}\n"
     ]
    }
   ],
   "source": [
    "with open(\"/home/anas/notebook/UseCase/config.json\") as f:\n",
    "    config = json.load(f)\n",
    "print(\"Config:\",config)"
   ]
  },
  {
   "cell_type": "code",
   "execution_count": 4,
   "id": "d9d40102",
   "metadata": {
    "execution": {
     "iopub.execute_input": "2021-06-20T15:39:25.963328Z",
     "iopub.status.busy": "2021-06-20T15:39:25.962505Z",
     "iopub.status.idle": "2021-06-20T15:39:25.966234Z",
     "shell.execute_reply": "2021-06-20T15:39:25.966651Z"
    },
    "jupyter": {
     "source_hidden": true
    },
    "papermill": {
     "duration": 0.018811,
     "end_time": "2021-06-20T15:39:25.966777",
     "exception": false,
     "start_time": "2021-06-20T15:39:25.947966",
     "status": "completed"
    },
    "tags": []
   },
   "outputs": [
    {
     "name": "stdout",
     "output_type": "stream",
     "text": [
      "will process: /home/anas/notebook/UseCase/input/meetingAttendanceReport(General)(2).csv\n"
     ]
    }
   ],
   "source": [
    "#read config file in input\n",
    "with open(\"/home/anas/notebook/UseCase/input_config.txt\") as f:\n",
    "    input_file=f.readline()\n",
    "print(\"will process:\",input_file)"
   ]
  },
  {
   "cell_type": "code",
   "execution_count": 5,
   "id": "6d2ea9e2",
   "metadata": {
    "execution": {
     "iopub.execute_input": "2021-06-20T15:39:25.997730Z",
     "iopub.status.busy": "2021-06-20T15:39:25.996944Z",
     "iopub.status.idle": "2021-06-20T15:39:25.999967Z",
     "shell.execute_reply": "2021-06-20T15:39:26.000489Z"
    },
    "jupyter": {
     "source_hidden": true
    },
    "papermill": {
     "duration": 0.021043,
     "end_time": "2021-06-20T15:39:26.000610",
     "exception": false,
     "start_time": "2021-06-20T15:39:25.979567",
     "status": "completed"
    },
    "tags": []
   },
   "outputs": [],
   "source": [
    "meta_data=[]\n",
    "log_call=[]\n",
    "lines=[]\n",
    "with open(input_file,encoding=\"utf-16\") as f:\n",
    "    lines=f.readlines()\n",
    "meta_data=lines[0:5]\n",
    "log_call=lines[6:]"
   ]
  },
  {
   "cell_type": "code",
   "execution_count": 6,
   "id": "03a595c6",
   "metadata": {
    "execution": {
     "iopub.execute_input": "2021-06-20T15:39:26.036065Z",
     "iopub.status.busy": "2021-06-20T15:39:26.035262Z",
     "iopub.status.idle": "2021-06-20T15:39:26.038252Z",
     "shell.execute_reply": "2021-06-20T15:39:26.038720Z"
    },
    "jupyter": {
     "source_hidden": true
    },
    "papermill": {
     "duration": 0.025281,
     "end_time": "2021-06-20T15:39:26.038842",
     "exception": false,
     "start_time": "2021-06-20T15:39:26.013561",
     "status": "completed"
    },
    "scrolled": true,
    "tags": []
   },
   "outputs": [
    {
     "data": {
      "text/plain": [
       "'DWH'"
      ]
     },
     "execution_count": 6,
     "metadata": {},
     "output_type": "execute_result"
    }
   ],
   "source": [
    "course = \"DWH\"\n",
    "course"
   ]
  },
  {
   "cell_type": "code",
   "execution_count": 7,
   "id": "7c932598",
   "metadata": {
    "execution": {
     "iopub.execute_input": "2021-06-20T15:39:26.069437Z",
     "iopub.status.busy": "2021-06-20T15:39:26.068505Z",
     "iopub.status.idle": "2021-06-20T15:39:26.092738Z",
     "shell.execute_reply": "2021-06-20T15:39:26.092277Z"
    },
    "jupyter": {
     "source_hidden": true
    },
    "papermill": {
     "duration": 0.041485,
     "end_time": "2021-06-20T15:39:26.092861",
     "exception": false,
     "start_time": "2021-06-20T15:39:26.051376",
     "status": "completed"
    },
    "tags": []
   },
   "outputs": [
    {
     "data": {
      "text/html": [
       "<div>\n",
       "<style scoped>\n",
       "    .dataframe tbody tr th:only-of-type {\n",
       "        vertical-align: middle;\n",
       "    }\n",
       "\n",
       "    .dataframe tbody tr th {\n",
       "        vertical-align: top;\n",
       "    }\n",
       "\n",
       "    .dataframe thead th {\n",
       "        text-align: right;\n",
       "    }\n",
       "</style>\n",
       "<table border=\"1\" class=\"dataframe\">\n",
       "  <thead>\n",
       "    <tr style=\"text-align: right;\">\n",
       "      <th></th>\n",
       "      <th>Nom complet</th>\n",
       "      <th>Heure d'arrivée</th>\n",
       "      <th>Heure de départ</th>\n",
       "      <th>Durée</th>\n",
       "      <th>E-mail</th>\n",
       "      <th>Rôle</th>\n",
       "    </tr>\n",
       "  </thead>\n",
       "  <tbody>\n",
       "    <tr>\n",
       "      <th>0</th>\n",
       "      <td>Imade BENELALLAM</td>\n",
       "      <td>06/04/2021 à 14:05:42</td>\n",
       "      <td>06/04/2021 à 16:04:32</td>\n",
       "      <td>1 h 58 m</td>\n",
       "      <td>i.benelallam@insea.ac.ma</td>\n",
       "      <td>Organisateur</td>\n",
       "    </tr>\n",
       "    <tr>\n",
       "      <th>1</th>\n",
       "      <td>Salah Eddine AOUARI</td>\n",
       "      <td>06/04/2021 à 14:05:52</td>\n",
       "      <td>06/04/2021 à 16:04:43</td>\n",
       "      <td>1 h 58 m</td>\n",
       "      <td>seaouari@insea.ac.ma</td>\n",
       "      <td>Présentateur</td>\n",
       "    </tr>\n",
       "    <tr>\n",
       "      <th>2</th>\n",
       "      <td>Chaimaa BELKARKOR</td>\n",
       "      <td>06/04/2021 à 14:05:57</td>\n",
       "      <td>06/04/2021 à 16:04:43</td>\n",
       "      <td>1 h 58 m</td>\n",
       "      <td>cbelkarkor@insea.ac.ma</td>\n",
       "      <td>Présentateur</td>\n",
       "    </tr>\n",
       "    <tr>\n",
       "      <th>3</th>\n",
       "      <td>Ibtihal MOURAD</td>\n",
       "      <td>06/04/2021 à 14:06:08</td>\n",
       "      <td>06/04/2021 à 16:28:17</td>\n",
       "      <td>2 h 22 m</td>\n",
       "      <td>imourad@insea.ac.ma</td>\n",
       "      <td>Présentateur</td>\n",
       "    </tr>\n",
       "    <tr>\n",
       "      <th>4</th>\n",
       "      <td>Akram EL FADILI</td>\n",
       "      <td>06/04/2021 à 14:06:13</td>\n",
       "      <td>06/04/2021 à 16:02:20</td>\n",
       "      <td>1 h 56 m</td>\n",
       "      <td>aelfadili@insea.ac.ma</td>\n",
       "      <td>Présentateur</td>\n",
       "    </tr>\n",
       "    <tr>\n",
       "      <th>...</th>\n",
       "      <td>...</td>\n",
       "      <td>...</td>\n",
       "      <td>...</td>\n",
       "      <td>...</td>\n",
       "      <td>...</td>\n",
       "      <td>...</td>\n",
       "    </tr>\n",
       "    <tr>\n",
       "      <th>68</th>\n",
       "      <td>Niima CHIGR</td>\n",
       "      <td>06/04/2021 à 14:58:03</td>\n",
       "      <td>06/04/2021 à 15:48:12</td>\n",
       "      <td>50 m 9 s</td>\n",
       "      <td>nchigr@insea.ac.ma</td>\n",
       "      <td>Présentateur</td>\n",
       "    </tr>\n",
       "    <tr>\n",
       "      <th>69</th>\n",
       "      <td>Yassine ZOUHRI</td>\n",
       "      <td>06/04/2021 à 15:16:55</td>\n",
       "      <td>06/04/2021 à 15:48:30</td>\n",
       "      <td>31 m 35 s</td>\n",
       "      <td>yzouhri@insea.ac.ma</td>\n",
       "      <td>Présentateur</td>\n",
       "    </tr>\n",
       "    <tr>\n",
       "      <th>70</th>\n",
       "      <td>Yassine ZOUHRI</td>\n",
       "      <td>06/04/2021 à 15:50:42</td>\n",
       "      <td>06/04/2021 à 16:04:51</td>\n",
       "      <td>14 m 8 s</td>\n",
       "      <td>yzouhri@insea.ac.ma</td>\n",
       "      <td>Présentateur</td>\n",
       "    </tr>\n",
       "    <tr>\n",
       "      <th>71</th>\n",
       "      <td>Oussama YOUSR</td>\n",
       "      <td>06/04/2021 à 15:19:22</td>\n",
       "      <td>06/04/2021 à 16:04:49</td>\n",
       "      <td>45 m 26 s</td>\n",
       "      <td>oyousr@insea.ac.ma</td>\n",
       "      <td>Présentateur</td>\n",
       "    </tr>\n",
       "    <tr>\n",
       "      <th>72</th>\n",
       "      <td>Hamza LAGRAMEZ</td>\n",
       "      <td>06/04/2021 à 16:23:48</td>\n",
       "      <td>06/04/2021 à 16:24:00</td>\n",
       "      <td>12 s</td>\n",
       "      <td>hlagramez@insea.ac.ma</td>\n",
       "      <td>Présentateur</td>\n",
       "    </tr>\n",
       "  </tbody>\n",
       "</table>\n",
       "<p>73 rows × 6 columns</p>\n",
       "</div>"
      ],
      "text/plain": [
       "            Nom complet        Heure d'arrivée        Heure de départ  \\\n",
       "0      Imade BENELALLAM  06/04/2021 à 14:05:42  06/04/2021 à 16:04:32   \n",
       "1   Salah Eddine AOUARI  06/04/2021 à 14:05:52  06/04/2021 à 16:04:43   \n",
       "2     Chaimaa BELKARKOR  06/04/2021 à 14:05:57  06/04/2021 à 16:04:43   \n",
       "3        Ibtihal MOURAD  06/04/2021 à 14:06:08  06/04/2021 à 16:28:17   \n",
       "4       Akram EL FADILI  06/04/2021 à 14:06:13  06/04/2021 à 16:02:20   \n",
       "..                  ...                    ...                    ...   \n",
       "68          Niima CHIGR  06/04/2021 à 14:58:03  06/04/2021 à 15:48:12   \n",
       "69       Yassine ZOUHRI  06/04/2021 à 15:16:55  06/04/2021 à 15:48:30   \n",
       "70       Yassine ZOUHRI  06/04/2021 à 15:50:42  06/04/2021 à 16:04:51   \n",
       "71        Oussama YOUSR  06/04/2021 à 15:19:22  06/04/2021 à 16:04:49   \n",
       "72       Hamza LAGRAMEZ  06/04/2021 à 16:23:48  06/04/2021 à 16:24:00   \n",
       "\n",
       "        Durée                    E-mail          Rôle  \n",
       "0    1 h 58 m  i.benelallam@insea.ac.ma  Organisateur  \n",
       "1    1 h 58 m      seaouari@insea.ac.ma  Présentateur  \n",
       "2    1 h 58 m    cbelkarkor@insea.ac.ma  Présentateur  \n",
       "3    2 h 22 m       imourad@insea.ac.ma  Présentateur  \n",
       "4    1 h 56 m     aelfadili@insea.ac.ma  Présentateur  \n",
       "..        ...                       ...           ...  \n",
       "68   50 m 9 s        nchigr@insea.ac.ma  Présentateur  \n",
       "69  31 m 35 s       yzouhri@insea.ac.ma  Présentateur  \n",
       "70   14 m 8 s       yzouhri@insea.ac.ma  Présentateur  \n",
       "71  45 m 26 s        oyousr@insea.ac.ma  Présentateur  \n",
       "72       12 s     hlagramez@insea.ac.ma  Présentateur  \n",
       "\n",
       "[73 rows x 6 columns]"
      ]
     },
     "execution_count": 7,
     "metadata": {},
     "output_type": "execute_result"
    }
   ],
   "source": [
    "with open(f\"/home/anas/notebook/UseCase/output/log_{input_file.split('/')[-1]}\",\"w\") as f:\n",
    "    for value in log_call:\n",
    "        f.write(value)\n",
    "    f.close()\n",
    "df_log = pd.read_csv(f\"/home/anas/notebook/UseCase/output/log_{input_file.split('/')[-1]}\",sep=\"\\t\")\n",
    "df_log"
   ]
  },
  {
   "cell_type": "code",
   "execution_count": 8,
   "id": "7f7b9fa1",
   "metadata": {
    "execution": {
     "iopub.execute_input": "2021-06-20T15:39:26.124063Z",
     "iopub.status.busy": "2021-06-20T15:39:26.123340Z",
     "iopub.status.idle": "2021-06-20T15:39:26.126087Z",
     "shell.execute_reply": "2021-06-20T15:39:26.125647Z"
    },
    "jupyter": {
     "source_hidden": true
    },
    "papermill": {
     "duration": 0.020462,
     "end_time": "2021-06-20T15:39:26.126187",
     "exception": false,
     "start_time": "2021-06-20T15:39:26.105725",
     "status": "completed"
    },
    "tags": []
   },
   "outputs": [],
   "source": [
    "start_str = meta_data[3].replace(\"Heure de début de la réunion\\t\",\"\").replace(\"\\n\",\"\").replace(\" à\",\"\")\n",
    "end_str   = meta_data[4].replace(\"Heure de fin\\t\",\"\").replace(\"\\n\",\"\").replace(\" à\",\"\")\n",
    "start_course = datetime.datetime.strptime(start_str, '%d/%m/%Y %H:%M:%S')\n",
    "end_course = datetime.datetime.strptime(end_str, '%d/%m/%Y %H:%M:%S')"
   ]
  },
  {
   "cell_type": "code",
   "execution_count": 9,
   "id": "74c1959a",
   "metadata": {
    "execution": {
     "iopub.execute_input": "2021-06-20T15:39:26.157438Z",
     "iopub.status.busy": "2021-06-20T15:39:26.156643Z",
     "iopub.status.idle": "2021-06-20T15:39:26.173812Z",
     "shell.execute_reply": "2021-06-20T15:39:26.174159Z"
    },
    "jupyter": {
     "source_hidden": true
    },
    "papermill": {
     "duration": 0.035372,
     "end_time": "2021-06-20T15:39:26.174263",
     "exception": false,
     "start_time": "2021-06-20T15:39:26.138891",
     "status": "completed"
    },
    "scrolled": true,
    "tags": []
   },
   "outputs": [
    {
     "name": "stdout",
     "output_type": "stream",
     "text": [
      "id_time : integer\n",
      "id_prof : integer\n",
      "id_student : integer\n",
      "nb_abs : integer\n",
      "abs_duration : double precision\n",
      "nb_lates : integer\n",
      "nb_pres : integer\n",
      "duration : integer\n"
     ]
    }
   ],
   "source": [
    "mydb = psycopg2.connect(database=config[\"database\"], user=config[\"user\"], password=config[\"password\"], host=config[\"host\"], port=config[\"port\"], options=f'-c search_path=biabsence')\n",
    "mycursor = mydb.cursor()\n",
    "table=\"fact_table\"\n",
    "mycursor.execute(f\"SELECT * FROM information_schema.columns WHERE table_schema = 'biabsence' AND table_name   = '{table}' ;\")\n",
    "myresult = mycursor.fetchall()\n",
    "for value in myresult:\n",
    "    print(value[3],\":\",value[7])"
   ]
  },
  {
   "cell_type": "code",
   "execution_count": 10,
   "id": "f0b1542d",
   "metadata": {
    "execution": {
     "iopub.execute_input": "2021-06-20T15:39:26.220797Z",
     "iopub.status.busy": "2021-06-20T15:39:26.218595Z",
     "iopub.status.idle": "2021-06-20T15:39:26.228369Z",
     "shell.execute_reply": "2021-06-20T15:39:26.228982Z"
    },
    "jupyter": {
     "source_hidden": true
    },
    "papermill": {
     "duration": 0.042827,
     "end_time": "2021-06-20T15:39:26.229116",
     "exception": false,
     "start_time": "2021-06-20T15:39:26.186289",
     "status": "completed"
    },
    "tags": []
   },
   "outputs": [],
   "source": [
    "def add_student(name,gender,email,course,major):\n",
    "    mydb = psycopg2.connect(database=config[\"database\"], user=config[\"user\"], password=config[\"password\"], host=config[\"host\"], port=config[\"port\"], options=f'-c search_path=biabsence')\n",
    "    mycursor = mydb.cursor()\n",
    "    mycursor.execute(f\"SELECT * FROM students where email ='{email}'\")\n",
    "    myresult = mycursor.fetchall()\n",
    "    if len(myresult) != 0:\n",
    "        return myresult[0][0]\n",
    "    if len(myresult) == 0:\n",
    "        sql = \"INSERT INTO students (name,gender,email,course,major) VALUES (%s,%s,%s,%s,%s)\"\n",
    "        val = (name,gender,email,course,major)\n",
    "        mycursor.execute(sql, val)\n",
    "        mydb.commit()\n",
    "        # print(mycursor.rowcount, \"record inserted.\")\n",
    "        mycursor.execute(f\"SELECT * FROM students where email ='{email}'\")\n",
    "        myresult = mycursor.fetchall()\n",
    "        return myresult[0][0]\n",
    "    \n",
    "def add_professor(name,email):\n",
    "    mydb = psycopg2.connect(database=config[\"database\"], user=config[\"user\"], password=config[\"password\"], host=config[\"host\"], port=config[\"port\"], options=f'-c search_path=biabsence')\n",
    "    mycursor = mydb.cursor()\n",
    "    mycursor.execute(f\"SELECT * FROM professors where email ='{email}'\")\n",
    "    myresult = mycursor.fetchall()\n",
    "    if len(myresult) != 0:\n",
    "        return myresult[0][0]\n",
    "    if len(myresult) == 0:\n",
    "        sql = \"INSERT INTO professors (name,email) VALUES (%s,%s)\"\n",
    "        val = (name,email)\n",
    "        mycursor.execute(sql, val)\n",
    "        mydb.commit()\n",
    "        # print(mycursor.rowcount, \"record inserted.\")\n",
    "        mycursor.execute(f\"SELECT * FROM professors where email ='{email}'\")\n",
    "        myresult = mycursor.fetchall()\n",
    "        return myresult[0][0]\n",
    "    \n",
    "def add_time(hour,day,month,year,date):\n",
    "    mydb = psycopg2.connect(database=config[\"database\"], user=config[\"user\"], password=config[\"password\"], host=config[\"host\"], port=config[\"port\"], options=f'-c search_path=biabsence')\n",
    "    mycursor = mydb.cursor()\n",
    "    mycursor.execute(f\"SELECT * FROM Time where year = {year} and month={month} and day={day} and hour={hour}\")\n",
    "    myresult = mycursor.fetchall()\n",
    "    if len(myresult) != 0:\n",
    "        return myresult[0][0]\n",
    "    if len(myresult) == 0:\n",
    "        sql = \"INSERT INTO time (hour,day,month,year,date) VALUES (%s,%s,%s,%s,%s)\"\n",
    "        val = (hour,day,month,year,date)\n",
    "        mycursor.execute(sql, val)\n",
    "        mydb.commit()\n",
    "        # print(mycursor.rowcount, \"record inserted.\")\n",
    "        mycursor.execute(f\"SELECT * FROM time where year = {year} and month={month} and day={day} and hour={hour}\")\n",
    "        myresult = mycursor.fetchall()\n",
    "        return myresult[0][0]"
   ]
  },
  {
   "cell_type": "code",
   "execution_count": 11,
   "id": "72ece278",
   "metadata": {
    "execution": {
     "iopub.execute_input": "2021-06-20T15:39:26.259533Z",
     "iopub.status.busy": "2021-06-20T15:39:26.258909Z",
     "iopub.status.idle": "2021-06-20T15:39:26.279627Z",
     "shell.execute_reply": "2021-06-20T15:39:26.280148Z"
    },
    "jupyter": {
     "source_hidden": true
    },
    "papermill": {
     "duration": 0.038058,
     "end_time": "2021-06-20T15:39:26.280288",
     "exception": false,
     "start_time": "2021-06-20T15:39:26.242230",
     "status": "completed"
    },
    "tags": []
   },
   "outputs": [
    {
     "data": {
      "text/plain": [
       "2"
      ]
     },
     "execution_count": 11,
     "metadata": {},
     "output_type": "execute_result"
    }
   ],
   "source": [
    "hour = start_course.hour\n",
    "day  = start_course.day\n",
    "month= start_course.month\n",
    "year = start_course.year\n",
    "date = start_course.strftime(\"%Y-%m-%d %H:%M:%S\")\n",
    "id_time=add_time(hour,day,month,year,date)\n",
    "id_time"
   ]
  },
  {
   "cell_type": "code",
   "execution_count": 12,
   "id": "43cfb06c",
   "metadata": {
    "execution": {
     "iopub.execute_input": "2021-06-20T15:39:26.321760Z",
     "iopub.status.busy": "2021-06-20T15:39:26.321059Z",
     "iopub.status.idle": "2021-06-20T15:39:26.346706Z",
     "shell.execute_reply": "2021-06-20T15:39:26.347149Z"
    },
    "jupyter": {
     "source_hidden": true
    },
    "papermill": {
     "duration": 0.051745,
     "end_time": "2021-06-20T15:39:26.347298",
     "exception": false,
     "start_time": "2021-06-20T15:39:26.295553",
     "status": "completed"
    },
    "scrolled": true,
    "tags": []
   },
   "outputs": [
    {
     "name": "stdout",
     "output_type": "stream",
     "text": [
      "professor: 1\n"
     ]
    }
   ],
   "source": [
    "#ADD PROFESSOR FROM LOG TO TABLE\n",
    "for index, row in df_log.iterrows():\n",
    "    if row[\"Rôle\"]==\"Organisateur\":\n",
    "        name,email = row[\"Nom complet\"],row[\"E-mail\"]\n",
    "        id_prof = add_professor(name,email)\n",
    "        print(\"professor:\",id_prof)"
   ]
  },
  {
   "cell_type": "code",
   "execution_count": 13,
   "id": "f3708b92",
   "metadata": {
    "execution": {
     "iopub.execute_input": "2021-06-20T15:39:26.382001Z",
     "iopub.status.busy": "2021-06-20T15:39:26.381217Z",
     "iopub.status.idle": "2021-06-20T15:39:26.383466Z",
     "shell.execute_reply": "2021-06-20T15:39:26.383881Z"
    },
    "jupyter": {
     "source_hidden": true
    },
    "papermill": {
     "duration": 0.020777,
     "end_time": "2021-06-20T15:39:26.384020",
     "exception": false,
     "start_time": "2021-06-20T15:39:26.363243",
     "status": "completed"
    },
    "tags": []
   },
   "outputs": [],
   "source": [
    "groups = df_log.groupby(\"E-mail\")"
   ]
  },
  {
   "cell_type": "code",
   "execution_count": 14,
   "id": "7924aacf",
   "metadata": {
    "execution": {
     "iopub.execute_input": "2021-06-20T15:39:26.417521Z",
     "iopub.status.busy": "2021-06-20T15:39:26.416599Z",
     "iopub.status.idle": "2021-06-20T15:39:26.423290Z",
     "shell.execute_reply": "2021-06-20T15:39:26.423667Z"
    },
    "jupyter": {
     "source_hidden": true
    },
    "papermill": {
     "duration": 0.025594,
     "end_time": "2021-06-20T15:39:26.423776",
     "exception": false,
     "start_time": "2021-06-20T15:39:26.398182",
     "status": "completed"
    },
    "tags": []
   },
   "outputs": [],
   "source": [
    "mydb = psycopg2.connect(database=config[\"database\"], user=config[\"user\"], password=config[\"password\"], host=config[\"host\"], port=config[\"port\"], options=f'-c search_path=biabsence')\n",
    "mycursor = mydb.cursor()\n",
    "mycursor.execute(f\"SELECT * FROM students\")\n",
    "myresult = mycursor.fetchall()\n",
    "emails=[]\n",
    "for result in myresult:\n",
    "    emails.append(result[3])"
   ]
  },
  {
   "cell_type": "code",
   "execution_count": 15,
   "id": "98dcdaad",
   "metadata": {
    "execution": {
     "iopub.execute_input": "2021-06-20T15:39:26.459024Z",
     "iopub.status.busy": "2021-06-20T15:39:26.458451Z",
     "iopub.status.idle": "2021-06-20T15:39:26.461384Z",
     "shell.execute_reply": "2021-06-20T15:39:26.460890Z"
    },
    "jupyter": {
     "source_hidden": true
    },
    "papermill": {
     "duration": 0.023846,
     "end_time": "2021-06-20T15:39:26.461466",
     "exception": false,
     "start_time": "2021-06-20T15:39:26.437620",
     "status": "completed"
    },
    "tags": []
   },
   "outputs": [
    {
     "name": "stdout",
     "output_type": "stream",
     "text": [
      "144.45\n"
     ]
    }
   ],
   "source": [
    "print((end_course-start_course).total_seconds() / 60.0)"
   ]
  },
  {
   "cell_type": "code",
   "execution_count": 16,
   "id": "a5f68fe7",
   "metadata": {
    "execution": {
     "iopub.execute_input": "2021-06-20T15:39:26.499056Z",
     "iopub.status.busy": "2021-06-20T15:39:26.495612Z",
     "iopub.status.idle": "2021-06-20T15:39:28.011349Z",
     "shell.execute_reply": "2021-06-20T15:39:28.010603Z"
    },
    "jupyter": {
     "source_hidden": true
    },
    "papermill": {
     "duration": 1.536096,
     "end_time": "2021-06-20T15:39:28.011537",
     "exception": false,
     "start_time": "2021-06-20T15:39:26.475441",
     "status": "completed"
    },
    "scrolled": true,
    "tags": []
   },
   "outputs": [
    {
     "name": "stdout",
     "output_type": "stream",
     "text": [
      "student: 1\n",
      "not found 'yaitmha@insea.ac.ma'\n"
     ]
    },
    {
     "name": "stdout",
     "output_type": "stream",
     "text": [
      "student: 3\n",
      "not found 'satiche@insea.ac.ma'\n",
      "student: 5\n",
      "student: 6\n",
      "student: 7\n",
      "student: 8\n",
      "student: 9\n"
     ]
    },
    {
     "name": "stdout",
     "output_type": "stream",
     "text": [
      "student: 10\n",
      "not found 'tebouzelmad@insea.ac.ma'\n"
     ]
    },
    {
     "name": "stdout",
     "output_type": "stream",
     "text": [
      "student: 12\n",
      "student: 13\n"
     ]
    },
    {
     "name": "stdout",
     "output_type": "stream",
     "text": [
      "not found 'fdani@insea.ac.ma'\n",
      "student: 15\n",
      "student: 16\n",
      "not found 'selhasnaoui@insea.ac.ma'\n",
      "student: 18\n",
      "student: 19\n",
      "not found 'helmouhsine@insea.ac.ma'\n",
      "not found 'selmouslih@insea.ac.ma'\n"
     ]
    },
    {
     "name": "stdout",
     "output_type": "stream",
     "text": [
      "student: 22\n",
      "student: 23\n"
     ]
    },
    {
     "name": "stdout",
     "output_type": "stream",
     "text": [
      "student: 24\n",
      "not found 'hgaoui@insea.ac.ma'\n"
     ]
    },
    {
     "name": "stdout",
     "output_type": "stream",
     "text": [
      "not found 'hhabbouza@insea.ac.ma'\n",
      "student: 27\n",
      "student: 28\n",
      "student: 29\n",
      "student: 30\n"
     ]
    },
    {
     "name": "stdout",
     "output_type": "stream",
     "text": [
      "not found 'alaachir@insea.ac.ma'\n"
     ]
    },
    {
     "name": "stdout",
     "output_type": "stream",
     "text": [
      "not found 'olamhamdialaoui@insea.ac.ma'\n"
     ]
    },
    {
     "name": "stdout",
     "output_type": "stream",
     "text": [
      "not found 'smaatouf@insea.ac.ma'\n",
      "not found 'amakrane@insea.ac.ma'\n",
      "student: 35\n",
      "student: 36\n",
      "not found 'smellak@insea.ac.ma'\n",
      "student: 38\n",
      "student: 39\n",
      "student: 40\n"
     ]
    },
    {
     "name": "stdout",
     "output_type": "stream",
     "text": [
      "student: 41\n"
     ]
    },
    {
     "name": "stdout",
     "output_type": "stream",
     "text": [
      "not found 'zrhosne@insea.ac.ma'\n",
      "student: 43\n"
     ]
    },
    {
     "name": "stdout",
     "output_type": "stream",
     "text": [
      "student: 44\n",
      "student: 45\n",
      "student: 46\n",
      "student: 47\n",
      "not found 'amenani@insea.ac.ma'\n",
      "student: 49\n",
      "student: 50\n",
      "student: 51\n",
      "not found 'acheddad@insea.ac.ma'\n"
     ]
    },
    {
     "name": "stdout",
     "output_type": "stream",
     "text": [
      "not found 'aelomairi@insea.ac.ma'\n"
     ]
    },
    {
     "name": "stdout",
     "output_type": "stream",
     "text": [
      "student: 54\n",
      "student: 55\n"
     ]
    },
    {
     "name": "stdout",
     "output_type": "stream",
     "text": [
      "not found 'ahamdi@insea.ac.ma'\n",
      "not found 'aelhadine@insea.ac.ma'\n",
      "student: 58\n",
      "student: 59\n",
      "not found 'hchafai@insea.ac.ma'\n",
      "student: 61\n",
      "not found 'hdah@insea.ac.ma'\n",
      "student: 63\n"
     ]
    },
    {
     "name": "stdout",
     "output_type": "stream",
     "text": [
      "student: 64\n",
      "student: 65\n"
     ]
    },
    {
     "name": "stdout",
     "output_type": "stream",
     "text": [
      "not found 'ibelmezouar@insea.ac.ma'\n",
      "not found 'kbensetti@insea.ac.ma'\n"
     ]
    },
    {
     "name": "stdout",
     "output_type": "stream",
     "text": [
      "student: 68\n",
      "student: 69\n",
      "student: 70\n",
      "not found 'msidibé@insea.ac.ma'\n",
      "not found 'nchahboun@insea.ac.ma'\n",
      "student: 73\n",
      "not found 'selhairech@insea.ac.ma'\n",
      "student: 75\n",
      "student: 76\n"
     ]
    },
    {
     "name": "stdout",
     "output_type": "stream",
     "text": [
      "not found 'yelhilali@insea.ac.ma'\n"
     ]
    },
    {
     "name": "stdout",
     "output_type": "stream",
     "text": [
      "not found 'yamaghouss@insea.ac.ma'\n",
      "not found 'ysadki@insea.ac.ma'\n"
     ]
    }
   ],
   "source": [
    "\n",
    "for email in emails:\n",
    "    name,gender,email,course,major = None,None,email,course,None\n",
    "    id_student=add_student(name,gender,email,course,major)\n",
    "    try:\n",
    "        data = groups.get_group(email).reset_index()\n",
    "        nb_abs = 0\n",
    "        #DURATION\n",
    "        duration=0\n",
    "        got_first_start=False\n",
    "        for index, row in data.iterrows():\n",
    "            start_str = row[\"Heure d'arrivée\"].replace(\" à\",\"\")\n",
    "            end_str   = row[\"Heure de départ\"].replace(\" à\",\"\")\n",
    "            start = datetime.datetime.strptime(start_str, '%d/%m/%Y %H:%M:%S')\n",
    "            end = datetime.datetime.strptime(end_str, '%d/%m/%Y %H:%M:%S')\n",
    "            duration = duration + ((end-start).total_seconds() / 60.0)\n",
    "            if not got_first_start:\n",
    "                got_first_start = True\n",
    "                first_start = start\n",
    "        if duration > 120:\n",
    "            duration=120\n",
    "        #NB LATES  \n",
    "        if ((first_start-start_course).total_seconds() / 60.0) > 15:\n",
    "            nb_lates = 1\n",
    "        else:\n",
    "            nb_lates = 0\n",
    "        \n",
    "        nb_pres = 1\n",
    "        \n",
    "        #ABS DURATION\n",
    "        abs_duration = 120-duration\n",
    "        \n",
    "        #DURATION IN INTEGER IN DB!\n",
    "        duration = int(duration)\n",
    "        \n",
    "        #is student\n",
    "        print(\"student:\",id_student)\n",
    "        if duration <= 15:\n",
    "            nb_abs = 1\n",
    "            nb_lates=0\n",
    "            nb_pres=0\n",
    "    \n",
    "    except KeyError as e:\n",
    "        print(\"not found\",e)\n",
    "        nb_abs = 1\n",
    "        abs_duration = 120\n",
    "        nb_lates=0\n",
    "        nb_pres=0\n",
    "        duration=0\n",
    "    #insert to data mart now\n",
    "    try:\n",
    "        mydb = psycopg2.connect(database=config[\"database\"], user=config[\"user\"], password=config[\"password\"], host=config[\"host\"], port=config[\"port\"], options=f'-c search_path=biabsence')\n",
    "        mycursor = mydb.cursor()\n",
    "        sql = \"INSERT INTO fact_table (id_time,id_prof,id_student,nb_abs,abs_duration,nb_lates,nb_pres,duration) VALUES (%s,%s,%s,%s,%s,%s,%s,%s)\"\n",
    "        val = (id_time,id_prof,id_student,nb_abs,abs_duration,nb_lates,nb_pres,duration)\n",
    "        mycursor.execute(sql, val)\n",
    "        mydb.commit()\n",
    "    except:\n",
    "        continue"
   ]
  },
  {
   "cell_type": "code",
   "execution_count": 17,
   "id": "0067bcb5",
   "metadata": {
    "execution": {
     "iopub.execute_input": "2021-06-20T15:39:28.097357Z",
     "iopub.status.busy": "2021-06-20T15:39:28.096531Z",
     "iopub.status.idle": "2021-06-20T15:39:28.109979Z",
     "shell.execute_reply": "2021-06-20T15:39:28.111107Z"
    },
    "jupyter": {
     "source_hidden": true
    },
    "papermill": {
     "duration": 0.062448,
     "end_time": "2021-06-20T15:39:28.112246",
     "exception": false,
     "start_time": "2021-06-20T15:39:28.049798",
     "status": "completed"
    },
    "tags": []
   },
   "outputs": [
    {
     "data": {
      "text/plain": [
       "0"
      ]
     },
     "execution_count": 17,
     "metadata": {},
     "output_type": "execute_result"
    }
   ],
   "source": [
    "os.system(f'mv \"{input_file}\" \"/home/anas/notebook/UseCase/processed/\"')"
   ]
  },
  {
   "cell_type": "code",
   "execution_count": null,
   "id": "a6a7deb4",
   "metadata": {
    "jupyter": {
     "source_hidden": true
    },
    "papermill": {
     "duration": 0.04068,
     "end_time": "2021-06-20T15:39:28.191111",
     "exception": false,
     "start_time": "2021-06-20T15:39:28.150431",
     "status": "completed"
    },
    "tags": []
   },
   "outputs": [],
   "source": []
  }
 ],
 "metadata": {
  "kernelspec": {
   "display_name": "Python 3",
   "language": "python",
   "name": "python3"
  },
  "language_info": {
   "codemirror_mode": {
    "name": "ipython",
    "version": 3
   },
   "file_extension": ".py",
   "mimetype": "text/x-python",
   "name": "python",
   "nbconvert_exporter": "python",
   "pygments_lexer": "ipython3",
   "version": "3.6.9"
  },
  "papermill": {
   "default_parameters": {},
   "duration": 4.31208,
   "end_time": "2021-06-20T15:39:28.652024",
   "environment_variables": {},
   "exception": null,
   "input_path": "/home/anas/notebook/UseCase/process_input_list.ipynb",
   "output_path": "/home/anas/notebook/UseCase/outs/out-process_input_list2021-06-20T15:25:52.926724+00:00.ipynb",
   "parameters": {
    "msgs": "Ran from Airflow at 2021-06-20T15:25:52.926724+00:00!"
   },
   "start_time": "2021-06-20T15:39:24.339944",
   "version": "2.3.3"
  }
 },
 "nbformat": 4,
 "nbformat_minor": 5
}