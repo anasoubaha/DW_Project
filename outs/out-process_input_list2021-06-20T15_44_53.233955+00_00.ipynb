{
 "cells": [
  {
   "cell_type": "code",
   "execution_count": 1,
   "id": "12d001b9",
   "metadata": {
    "execution": {
     "iopub.execute_input": "2021-06-20T15:46:24.129538Z",
     "iopub.status.busy": "2021-06-20T15:46:24.128685Z",
     "iopub.status.idle": "2021-06-20T15:46:24.131762Z",
     "shell.execute_reply": "2021-06-20T15:46:24.132238Z"
    },
    "jupyter": {
     "source_hidden": true
    },
    "papermill": {
     "duration": 0.030649,
     "end_time": "2021-06-20T15:46:24.132379",
     "exception": false,
     "start_time": "2021-06-20T15:46:24.101730",
     "status": "completed"
    },
    "tags": [
     "injected-parameters"
    ]
   },
   "outputs": [],
   "source": [
    "# Parameters\n",
    "msgs = \"Ran from Airflow at 2021-06-20T15:44:53.233955+00:00!\"\n"
   ]
  },
  {
   "cell_type": "code",
   "execution_count": 2,
   "id": "13c6f718",
   "metadata": {
    "execution": {
     "iopub.execute_input": "2021-06-20T15:46:24.161341Z",
     "iopub.status.busy": "2021-06-20T15:46:24.160448Z",
     "iopub.status.idle": "2021-06-20T15:46:24.530971Z",
     "shell.execute_reply": "2021-06-20T15:46:24.530500Z"
    },
    "jupyter": {
     "source_hidden": true
    },
    "papermill": {
     "duration": 0.386839,
     "end_time": "2021-06-20T15:46:24.531097",
     "exception": false,
     "start_time": "2021-06-20T15:46:24.144258",
     "status": "completed"
    },
    "tags": []
   },
   "outputs": [],
   "source": [
    "import pandas as pd\n",
    "import psycopg2\n",
    "import os\n",
    "import json\n",
    "import datetime"
   ]
  },
  {
   "cell_type": "code",
   "execution_count": 3,
   "id": "f49514fe",
   "metadata": {
    "execution": {
     "iopub.execute_input": "2021-06-20T15:46:24.559460Z",
     "iopub.status.busy": "2021-06-20T15:46:24.557941Z",
     "iopub.status.idle": "2021-06-20T15:46:24.561339Z",
     "shell.execute_reply": "2021-06-20T15:46:24.560881Z"
    },
    "jupyter": {
     "source_hidden": true
    },
    "papermill": {
     "duration": 0.01973,
     "end_time": "2021-06-20T15:46:24.561449",
     "exception": false,
     "start_time": "2021-06-20T15:46:24.541719",
     "status": "completed"
    },
    "tags": []
   },
   "outputs": [
    {
     "name": "stdout",
     "output_type": "stream",
     "text": [
      "Config: {'database': 'datamart', 'user': 'postgres', 'password': 'intelrebel', 'host': 'localhost', 'port': '5432'}\n"
     ]
    }
   ],
   "source": [
    "with open(\"/home/anas/notebook/UseCase/config.json\") as f:\n",
    "    config = json.load(f)\n",
    "print(\"Config:\",config)"
   ]
  },
  {
   "cell_type": "code",
   "execution_count": 4,
   "id": "d9d40102",
   "metadata": {
    "execution": {
     "iopub.execute_input": "2021-06-20T15:46:24.586524Z",
     "iopub.status.busy": "2021-06-20T15:46:24.585625Z",
     "iopub.status.idle": "2021-06-20T15:46:24.588918Z",
     "shell.execute_reply": "2021-06-20T15:46:24.589391Z"
    },
    "jupyter": {
     "source_hidden": true
    },
    "papermill": {
     "duration": 0.017277,
     "end_time": "2021-06-20T15:46:24.589505",
     "exception": false,
     "start_time": "2021-06-20T15:46:24.572228",
     "status": "completed"
    },
    "tags": []
   },
   "outputs": [
    {
     "name": "stdout",
     "output_type": "stream",
     "text": [
      "will process: /home/anas/notebook/UseCase/input/meetingAttendanceReport(General)(4).csv\n"
     ]
    }
   ],
   "source": [
    "#read config file in input\n",
    "with open(\"/home/anas/notebook/UseCase/input_config.txt\") as f:\n",
    "    input_file=f.readline()\n",
    "print(\"will process:\",input_file)"
   ]
  },
  {
   "cell_type": "code",
   "execution_count": 5,
   "id": "6d2ea9e2",
   "metadata": {
    "execution": {
     "iopub.execute_input": "2021-06-20T15:46:24.615909Z",
     "iopub.status.busy": "2021-06-20T15:46:24.615121Z",
     "iopub.status.idle": "2021-06-20T15:46:24.618190Z",
     "shell.execute_reply": "2021-06-20T15:46:24.618637Z"
    },
    "jupyter": {
     "source_hidden": true
    },
    "papermill": {
     "duration": 0.018384,
     "end_time": "2021-06-20T15:46:24.618749",
     "exception": false,
     "start_time": "2021-06-20T15:46:24.600365",
     "status": "completed"
    },
    "tags": []
   },
   "outputs": [],
   "source": [
    "meta_data=[]\n",
    "log_call=[]\n",
    "lines=[]\n",
    "with open(input_file,encoding=\"utf-16\") as f:\n",
    "    lines=f.readlines()\n",
    "meta_data=lines[0:5]\n",
    "log_call=lines[6:]"
   ]
  },
  {
   "cell_type": "code",
   "execution_count": 6,
   "id": "03a595c6",
   "metadata": {
    "execution": {
     "iopub.execute_input": "2021-06-20T15:46:24.656943Z",
     "iopub.status.busy": "2021-06-20T15:46:24.655624Z",
     "iopub.status.idle": "2021-06-20T15:46:24.659074Z",
     "shell.execute_reply": "2021-06-20T15:46:24.659513Z"
    },
    "jupyter": {
     "source_hidden": true
    },
    "papermill": {
     "duration": 0.029901,
     "end_time": "2021-06-20T15:46:24.659632",
     "exception": false,
     "start_time": "2021-06-20T15:46:24.629731",
     "status": "completed"
    },
    "scrolled": true,
    "tags": []
   },
   "outputs": [
    {
     "data": {
      "text/plain": [
       "'DWH'"
      ]
     },
     "execution_count": 6,
     "metadata": {},
     "output_type": "execute_result"
    }
   ],
   "source": [
    "course = \"DWH\"\n",
    "course"
   ]
  },
  {
   "cell_type": "code",
   "execution_count": 7,
   "id": "7c932598",
   "metadata": {
    "execution": {
     "iopub.execute_input": "2021-06-20T15:46:24.689636Z",
     "iopub.status.busy": "2021-06-20T15:46:24.688755Z",
     "iopub.status.idle": "2021-06-20T15:46:24.710581Z",
     "shell.execute_reply": "2021-06-20T15:46:24.710995Z"
    },
    "jupyter": {
     "source_hidden": true
    },
    "papermill": {
     "duration": 0.039853,
     "end_time": "2021-06-20T15:46:24.711112",
     "exception": false,
     "start_time": "2021-06-20T15:46:24.671259",
     "status": "completed"
    },
    "tags": []
   },
   "outputs": [
    {
     "data": {
      "text/html": [
       "<div>\n",
       "<style scoped>\n",
       "    .dataframe tbody tr th:only-of-type {\n",
       "        vertical-align: middle;\n",
       "    }\n",
       "\n",
       "    .dataframe tbody tr th {\n",
       "        vertical-align: top;\n",
       "    }\n",
       "\n",
       "    .dataframe thead th {\n",
       "        text-align: right;\n",
       "    }\n",
       "</style>\n",
       "<table border=\"1\" class=\"dataframe\">\n",
       "  <thead>\n",
       "    <tr style=\"text-align: right;\">\n",
       "      <th></th>\n",
       "      <th>Nom complet</th>\n",
       "      <th>Heure d'arrivée</th>\n",
       "      <th>Heure de départ</th>\n",
       "      <th>Durée</th>\n",
       "      <th>E-mail</th>\n",
       "      <th>Rôle</th>\n",
       "    </tr>\n",
       "  </thead>\n",
       "  <tbody>\n",
       "    <tr>\n",
       "      <th>0</th>\n",
       "      <td>Imade BENELALLAM</td>\n",
       "      <td>20/04/2021 à 13:02:24</td>\n",
       "      <td>20/04/2021 à 14:53:19</td>\n",
       "      <td>1 h 50 m</td>\n",
       "      <td>i.benelallam@insea.ac.ma</td>\n",
       "      <td>Organisateur</td>\n",
       "    </tr>\n",
       "    <tr>\n",
       "      <th>1</th>\n",
       "      <td>Chaimaa BELKARKOR</td>\n",
       "      <td>20/04/2021 à 13:02:44</td>\n",
       "      <td>20/04/2021 à 14:53:30</td>\n",
       "      <td>1 h 50 m</td>\n",
       "      <td>cbelkarkor@insea.ac.ma</td>\n",
       "      <td>Présentateur</td>\n",
       "    </tr>\n",
       "    <tr>\n",
       "      <th>2</th>\n",
       "      <td>Hibatallah BOUNAR</td>\n",
       "      <td>20/04/2021 à 13:03:07</td>\n",
       "      <td>20/04/2021 à 14:53:22</td>\n",
       "      <td>1 h 50 m</td>\n",
       "      <td>hbounar@insea.ac.ma</td>\n",
       "      <td>Présentateur</td>\n",
       "    </tr>\n",
       "    <tr>\n",
       "      <th>3</th>\n",
       "      <td>Sabah BOUKILI</td>\n",
       "      <td>20/04/2021 à 13:03:22</td>\n",
       "      <td>20/04/2021 à 13:13:50</td>\n",
       "      <td>10 m 28 s</td>\n",
       "      <td>sboukili@insea.ac.ma</td>\n",
       "      <td>Présentateur</td>\n",
       "    </tr>\n",
       "    <tr>\n",
       "      <th>4</th>\n",
       "      <td>Sabah BOUKILI</td>\n",
       "      <td>20/04/2021 à 13:42:28</td>\n",
       "      <td>20/04/2021 à 13:42:36</td>\n",
       "      <td>7 s</td>\n",
       "      <td>sboukili@insea.ac.ma</td>\n",
       "      <td>Présentateur</td>\n",
       "    </tr>\n",
       "    <tr>\n",
       "      <th>...</th>\n",
       "      <td>...</td>\n",
       "      <td>...</td>\n",
       "      <td>...</td>\n",
       "      <td>...</td>\n",
       "      <td>...</td>\n",
       "      <td>...</td>\n",
       "    </tr>\n",
       "    <tr>\n",
       "      <th>59</th>\n",
       "      <td>Mohamed-Amine FARFAOUA</td>\n",
       "      <td>20/04/2021 à 14:13:15</td>\n",
       "      <td>20/04/2021 à 14:17:49</td>\n",
       "      <td>4 m 34 s</td>\n",
       "      <td>mafarfaoua@insea.ac.ma</td>\n",
       "      <td>Présentateur</td>\n",
       "    </tr>\n",
       "    <tr>\n",
       "      <th>60</th>\n",
       "      <td>Oussama YOUSR</td>\n",
       "      <td>20/04/2021 à 14:19:12</td>\n",
       "      <td>20/04/2021 à 14:53:21</td>\n",
       "      <td>34 m 8 s</td>\n",
       "      <td>oyousr@insea.ac.ma</td>\n",
       "      <td>Présentateur</td>\n",
       "    </tr>\n",
       "    <tr>\n",
       "      <th>61</th>\n",
       "      <td>Youness MOUZAKI</td>\n",
       "      <td>20/04/2021 à 14:27:59</td>\n",
       "      <td>20/04/2021 à 14:52:13</td>\n",
       "      <td>24 m 14 s</td>\n",
       "      <td>ymouzaki@insea.ac.ma</td>\n",
       "      <td>Présentateur</td>\n",
       "    </tr>\n",
       "    <tr>\n",
       "      <th>62</th>\n",
       "      <td>Niima CHIGR</td>\n",
       "      <td>20/04/2021 à 14:36:04</td>\n",
       "      <td>20/04/2021 à 14:44:08</td>\n",
       "      <td>8 m 3 s</td>\n",
       "      <td>nchigr@insea.ac.ma</td>\n",
       "      <td>Présentateur</td>\n",
       "    </tr>\n",
       "    <tr>\n",
       "      <th>63</th>\n",
       "      <td>Niima CHIGR</td>\n",
       "      <td>20/04/2021 à 14:48:48</td>\n",
       "      <td>20/04/2021 à 14:55:39</td>\n",
       "      <td>6 m 50 s</td>\n",
       "      <td>nchigr@insea.ac.ma</td>\n",
       "      <td>Présentateur</td>\n",
       "    </tr>\n",
       "  </tbody>\n",
       "</table>\n",
       "<p>64 rows × 6 columns</p>\n",
       "</div>"
      ],
      "text/plain": [
       "               Nom complet        Heure d'arrivée        Heure de départ  \\\n",
       "0         Imade BENELALLAM  20/04/2021 à 13:02:24  20/04/2021 à 14:53:19   \n",
       "1        Chaimaa BELKARKOR  20/04/2021 à 13:02:44  20/04/2021 à 14:53:30   \n",
       "2        Hibatallah BOUNAR  20/04/2021 à 13:03:07  20/04/2021 à 14:53:22   \n",
       "3            Sabah BOUKILI  20/04/2021 à 13:03:22  20/04/2021 à 13:13:50   \n",
       "4            Sabah BOUKILI  20/04/2021 à 13:42:28  20/04/2021 à 13:42:36   \n",
       "..                     ...                    ...                    ...   \n",
       "59  Mohamed-Amine FARFAOUA  20/04/2021 à 14:13:15  20/04/2021 à 14:17:49   \n",
       "60           Oussama YOUSR  20/04/2021 à 14:19:12  20/04/2021 à 14:53:21   \n",
       "61         Youness MOUZAKI  20/04/2021 à 14:27:59  20/04/2021 à 14:52:13   \n",
       "62             Niima CHIGR  20/04/2021 à 14:36:04  20/04/2021 à 14:44:08   \n",
       "63             Niima CHIGR  20/04/2021 à 14:48:48  20/04/2021 à 14:55:39   \n",
       "\n",
       "        Durée                    E-mail          Rôle  \n",
       "0    1 h 50 m  i.benelallam@insea.ac.ma  Organisateur  \n",
       "1    1 h 50 m    cbelkarkor@insea.ac.ma  Présentateur  \n",
       "2    1 h 50 m       hbounar@insea.ac.ma  Présentateur  \n",
       "3   10 m 28 s      sboukili@insea.ac.ma  Présentateur  \n",
       "4         7 s      sboukili@insea.ac.ma  Présentateur  \n",
       "..        ...                       ...           ...  \n",
       "59   4 m 34 s    mafarfaoua@insea.ac.ma  Présentateur  \n",
       "60   34 m 8 s        oyousr@insea.ac.ma  Présentateur  \n",
       "61  24 m 14 s      ymouzaki@insea.ac.ma  Présentateur  \n",
       "62    8 m 3 s        nchigr@insea.ac.ma  Présentateur  \n",
       "63   6 m 50 s        nchigr@insea.ac.ma  Présentateur  \n",
       "\n",
       "[64 rows x 6 columns]"
      ]
     },
     "execution_count": 7,
     "metadata": {},
     "output_type": "execute_result"
    }
   ],
   "source": [
    "with open(f\"/home/anas/notebook/UseCase/output/log_{input_file.split('/')[-1]}\",\"w\") as f:\n",
    "    for value in log_call:\n",
    "        f.write(value)\n",
    "    f.close()\n",
    "df_log = pd.read_csv(f\"/home/anas/notebook/UseCase/output/log_{input_file.split('/')[-1]}\",sep=\"\\t\")\n",
    "df_log"
   ]
  },
  {
   "cell_type": "code",
   "execution_count": 8,
   "id": "7f7b9fa1",
   "metadata": {
    "execution": {
     "iopub.execute_input": "2021-06-20T15:46:24.743266Z",
     "iopub.status.busy": "2021-06-20T15:46:24.742552Z",
     "iopub.status.idle": "2021-06-20T15:46:24.745262Z",
     "shell.execute_reply": "2021-06-20T15:46:24.744828Z"
    },
    "jupyter": {
     "source_hidden": true
    },
    "papermill": {
     "duration": 0.020808,
     "end_time": "2021-06-20T15:46:24.745363",
     "exception": false,
     "start_time": "2021-06-20T15:46:24.724555",
     "status": "completed"
    },
    "tags": []
   },
   "outputs": [],
   "source": [
    "start_str = meta_data[3].replace(\"Heure de début de la réunion\\t\",\"\").replace(\"\\n\",\"\").replace(\" à\",\"\")\n",
    "end_str   = meta_data[4].replace(\"Heure de fin\\t\",\"\").replace(\"\\n\",\"\").replace(\" à\",\"\")\n",
    "start_course = datetime.datetime.strptime(start_str, '%d/%m/%Y %H:%M:%S')\n",
    "end_course = datetime.datetime.strptime(end_str, '%d/%m/%Y %H:%M:%S')"
   ]
  },
  {
   "cell_type": "code",
   "execution_count": 9,
   "id": "74c1959a",
   "metadata": {
    "execution": {
     "iopub.execute_input": "2021-06-20T15:46:24.775786Z",
     "iopub.status.busy": "2021-06-20T15:46:24.774882Z",
     "iopub.status.idle": "2021-06-20T15:46:24.794491Z",
     "shell.execute_reply": "2021-06-20T15:46:24.794905Z"
    },
    "jupyter": {
     "source_hidden": true
    },
    "papermill": {
     "duration": 0.037649,
     "end_time": "2021-06-20T15:46:24.795035",
     "exception": false,
     "start_time": "2021-06-20T15:46:24.757386",
     "status": "completed"
    },
    "scrolled": true,
    "tags": []
   },
   "outputs": [
    {
     "name": "stdout",
     "output_type": "stream",
     "text": [
      "id_time : integer\n",
      "id_prof : integer\n",
      "id_student : integer\n",
      "nb_abs : integer\n",
      "abs_duration : double precision\n",
      "nb_lates : integer\n",
      "nb_pres : integer\n",
      "duration : integer\n"
     ]
    }
   ],
   "source": [
    "mydb = psycopg2.connect(database=config[\"database\"], user=config[\"user\"], password=config[\"password\"], host=config[\"host\"], port=config[\"port\"], options=f'-c search_path=biabsence')\n",
    "mycursor = mydb.cursor()\n",
    "table=\"fact_table\"\n",
    "mycursor.execute(f\"SELECT * FROM information_schema.columns WHERE table_schema = 'biabsence' AND table_name   = '{table}' ;\")\n",
    "myresult = mycursor.fetchall()\n",
    "for value in myresult:\n",
    "    print(value[3],\":\",value[7])"
   ]
  },
  {
   "cell_type": "code",
   "execution_count": 10,
   "id": "f0b1542d",
   "metadata": {
    "execution": {
     "iopub.execute_input": "2021-06-20T15:46:24.830378Z",
     "iopub.status.busy": "2021-06-20T15:46:24.829156Z",
     "iopub.status.idle": "2021-06-20T15:46:24.837866Z",
     "shell.execute_reply": "2021-06-20T15:46:24.838280Z"
    },
    "jupyter": {
     "source_hidden": true
    },
    "papermill": {
     "duration": 0.029585,
     "end_time": "2021-06-20T15:46:24.838400",
     "exception": false,
     "start_time": "2021-06-20T15:46:24.808815",
     "status": "completed"
    },
    "tags": []
   },
   "outputs": [],
   "source": [
    "def add_student(name,gender,email,course,major):\n",
    "    mydb = psycopg2.connect(database=config[\"database\"], user=config[\"user\"], password=config[\"password\"], host=config[\"host\"], port=config[\"port\"], options=f'-c search_path=biabsence')\n",
    "    mycursor = mydb.cursor()\n",
    "    mycursor.execute(f\"SELECT * FROM students where email ='{email}'\")\n",
    "    myresult = mycursor.fetchall()\n",
    "    if len(myresult) != 0:\n",
    "        return myresult[0][0]\n",
    "    if len(myresult) == 0:\n",
    "        sql = \"INSERT INTO students (name,gender,email,course,major) VALUES (%s,%s,%s,%s,%s)\"\n",
    "        val = (name,gender,email,course,major)\n",
    "        mycursor.execute(sql, val)\n",
    "        mydb.commit()\n",
    "        # print(mycursor.rowcount, \"record inserted.\")\n",
    "        mycursor.execute(f\"SELECT * FROM students where email ='{email}'\")\n",
    "        myresult = mycursor.fetchall()\n",
    "        return myresult[0][0]\n",
    "    \n",
    "def add_professor(name,email):\n",
    "    mydb = psycopg2.connect(database=config[\"database\"], user=config[\"user\"], password=config[\"password\"], host=config[\"host\"], port=config[\"port\"], options=f'-c search_path=biabsence')\n",
    "    mycursor = mydb.cursor()\n",
    "    mycursor.execute(f\"SELECT * FROM professors where email ='{email}'\")\n",
    "    myresult = mycursor.fetchall()\n",
    "    if len(myresult) != 0:\n",
    "        return myresult[0][0]\n",
    "    if len(myresult) == 0:\n",
    "        sql = \"INSERT INTO professors (name,email) VALUES (%s,%s)\"\n",
    "        val = (name,email)\n",
    "        mycursor.execute(sql, val)\n",
    "        mydb.commit()\n",
    "        # print(mycursor.rowcount, \"record inserted.\")\n",
    "        mycursor.execute(f\"SELECT * FROM professors where email ='{email}'\")\n",
    "        myresult = mycursor.fetchall()\n",
    "        return myresult[0][0]\n",
    "    \n",
    "def add_time(hour,day,month,year,date):\n",
    "    mydb = psycopg2.connect(database=config[\"database\"], user=config[\"user\"], password=config[\"password\"], host=config[\"host\"], port=config[\"port\"], options=f'-c search_path=biabsence')\n",
    "    mycursor = mydb.cursor()\n",
    "    mycursor.execute(f\"SELECT * FROM Time where year = {year} and month={month} and day={day} and hour={hour}\")\n",
    "    myresult = mycursor.fetchall()\n",
    "    if len(myresult) != 0:\n",
    "        return myresult[0][0]\n",
    "    if len(myresult) == 0:\n",
    "        sql = \"INSERT INTO time (hour,day,month,year,date) VALUES (%s,%s,%s,%s,%s)\"\n",
    "        val = (hour,day,month,year,date)\n",
    "        mycursor.execute(sql, val)\n",
    "        mydb.commit()\n",
    "        # print(mycursor.rowcount, \"record inserted.\")\n",
    "        mycursor.execute(f\"SELECT * FROM time where year = {year} and month={month} and day={day} and hour={hour}\")\n",
    "        myresult = mycursor.fetchall()\n",
    "        return myresult[0][0]"
   ]
  },
  {
   "cell_type": "code",
   "execution_count": 11,
   "id": "72ece278",
   "metadata": {
    "execution": {
     "iopub.execute_input": "2021-06-20T15:46:24.869452Z",
     "iopub.status.busy": "2021-06-20T15:46:24.868638Z",
     "iopub.status.idle": "2021-06-20T15:46:24.886063Z",
     "shell.execute_reply": "2021-06-20T15:46:24.886477Z"
    },
    "jupyter": {
     "source_hidden": true
    },
    "papermill": {
     "duration": 0.035133,
     "end_time": "2021-06-20T15:46:24.886602",
     "exception": false,
     "start_time": "2021-06-20T15:46:24.851469",
     "status": "completed"
    },
    "tags": []
   },
   "outputs": [
    {
     "data": {
      "text/plain": [
       "4"
      ]
     },
     "execution_count": 11,
     "metadata": {},
     "output_type": "execute_result"
    }
   ],
   "source": [
    "hour = start_course.hour\n",
    "day  = start_course.day\n",
    "month= start_course.month\n",
    "year = start_course.year\n",
    "date = start_course.strftime(\"%Y-%m-%d %H:%M:%S\")\n",
    "id_time=add_time(hour,day,month,year,date)\n",
    "id_time"
   ]
  },
  {
   "cell_type": "code",
   "execution_count": 12,
   "id": "43cfb06c",
   "metadata": {
    "execution": {
     "iopub.execute_input": "2021-06-20T15:46:24.918749Z",
     "iopub.status.busy": "2021-06-20T15:46:24.918256Z",
     "iopub.status.idle": "2021-06-20T15:46:24.931636Z",
     "shell.execute_reply": "2021-06-20T15:46:24.932133Z"
    },
    "jupyter": {
     "source_hidden": true
    },
    "papermill": {
     "duration": 0.03229,
     "end_time": "2021-06-20T15:46:24.932262",
     "exception": false,
     "start_time": "2021-06-20T15:46:24.899972",
     "status": "completed"
    },
    "scrolled": true,
    "tags": []
   },
   "outputs": [
    {
     "name": "stdout",
     "output_type": "stream",
     "text": [
      "professor: 1\n"
     ]
    }
   ],
   "source": [
    "#ADD PROFESSOR FROM LOG TO TABLE\n",
    "for index, row in df_log.iterrows():\n",
    "    if row[\"Rôle\"]==\"Organisateur\":\n",
    "        name,email = row[\"Nom complet\"],row[\"E-mail\"]\n",
    "        id_prof = add_professor(name,email)\n",
    "        print(\"professor:\",id_prof)"
   ]
  },
  {
   "cell_type": "code",
   "execution_count": 13,
   "id": "f3708b92",
   "metadata": {
    "execution": {
     "iopub.execute_input": "2021-06-20T15:46:24.960835Z",
     "iopub.status.busy": "2021-06-20T15:46:24.960143Z",
     "iopub.status.idle": "2021-06-20T15:46:24.962890Z",
     "shell.execute_reply": "2021-06-20T15:46:24.962466Z"
    },
    "jupyter": {
     "source_hidden": true
    },
    "papermill": {
     "duration": 0.017938,
     "end_time": "2021-06-20T15:46:24.962991",
     "exception": false,
     "start_time": "2021-06-20T15:46:24.945053",
     "status": "completed"
    },
    "tags": []
   },
   "outputs": [],
   "source": [
    "groups = df_log.groupby(\"E-mail\")"
   ]
  },
  {
   "cell_type": "code",
   "execution_count": 14,
   "id": "7924aacf",
   "metadata": {
    "execution": {
     "iopub.execute_input": "2021-06-20T15:46:24.991791Z",
     "iopub.status.busy": "2021-06-20T15:46:24.990892Z",
     "iopub.status.idle": "2021-06-20T15:46:24.997908Z",
     "shell.execute_reply": "2021-06-20T15:46:24.997518Z"
    },
    "jupyter": {
     "source_hidden": true
    },
    "papermill": {
     "duration": 0.022826,
     "end_time": "2021-06-20T15:46:24.997997",
     "exception": false,
     "start_time": "2021-06-20T15:46:24.975171",
     "status": "completed"
    },
    "tags": []
   },
   "outputs": [],
   "source": [
    "mydb = psycopg2.connect(database=config[\"database\"], user=config[\"user\"], password=config[\"password\"], host=config[\"host\"], port=config[\"port\"], options=f'-c search_path=biabsence')\n",
    "mycursor = mydb.cursor()\n",
    "mycursor.execute(f\"SELECT * FROM students\")\n",
    "myresult = mycursor.fetchall()\n",
    "emails=[]\n",
    "for result in myresult:\n",
    "    emails.append(result[3])"
   ]
  },
  {
   "cell_type": "code",
   "execution_count": 15,
   "id": "98dcdaad",
   "metadata": {
    "execution": {
     "iopub.execute_input": "2021-06-20T15:46:25.028144Z",
     "iopub.status.busy": "2021-06-20T15:46:25.027525Z",
     "iopub.status.idle": "2021-06-20T15:46:25.030104Z",
     "shell.execute_reply": "2021-06-20T15:46:25.030616Z"
    },
    "jupyter": {
     "source_hidden": true
    },
    "papermill": {
     "duration": 0.020478,
     "end_time": "2021-06-20T15:46:25.030739",
     "exception": false,
     "start_time": "2021-06-20T15:46:25.010261",
     "status": "completed"
    },
    "tags": []
   },
   "outputs": [
    {
     "name": "stdout",
     "output_type": "stream",
     "text": [
      "113.8\n"
     ]
    }
   ],
   "source": [
    "print((end_course-start_course).total_seconds() / 60.0)"
   ]
  },
  {
   "cell_type": "code",
   "execution_count": 16,
   "id": "a5f68fe7",
   "metadata": {
    "execution": {
     "iopub.execute_input": "2021-06-20T15:46:25.069471Z",
     "iopub.status.busy": "2021-06-20T15:46:25.068683Z",
     "iopub.status.idle": "2021-06-20T15:46:26.095941Z",
     "shell.execute_reply": "2021-06-20T15:46:26.096406Z"
    },
    "jupyter": {
     "source_hidden": true
    },
    "papermill": {
     "duration": 1.052201,
     "end_time": "2021-06-20T15:46:26.096580",
     "exception": false,
     "start_time": "2021-06-20T15:46:25.044379",
     "status": "completed"
    },
    "scrolled": true,
    "tags": []
   },
   "outputs": [
    {
     "name": "stdout",
     "output_type": "stream",
     "text": [
      "not found 'yaitmalek@insea.ac.ma'\n",
      "not found 'yaitmha@insea.ac.ma'\n",
      "student: 3\n",
      "not found 'satiche@insea.ac.ma'\n"
     ]
    },
    {
     "name": "stdout",
     "output_type": "stream",
     "text": [
      "student: 5\n",
      "student: 6\n",
      "student: 7\n",
      "student: 8\n",
      "student: 9\n"
     ]
    },
    {
     "name": "stdout",
     "output_type": "stream",
     "text": [
      "student: 10\n",
      "not found 'tebouzelmad@insea.ac.ma'\n",
      "student: 12\n"
     ]
    },
    {
     "name": "stdout",
     "output_type": "stream",
     "text": [
      "student: 13\n",
      "not found 'fdani@insea.ac.ma'\n",
      "student: 15\n",
      "student: 16\n",
      "student: 17\n",
      "not found 'aelkassmi@insea.ac.ma'\n",
      "student: 19\n"
     ]
    },
    {
     "name": "stdout",
     "output_type": "stream",
     "text": [
      "student: 20\n",
      "not found 'selmouslih@insea.ac.ma'\n",
      "not found 'helouafi@insea.ac.ma'\n",
      "student: 23\n",
      "student: 24\n",
      "not found 'hgaoui@insea.ac.ma'\n",
      "not found 'hhabbouza@insea.ac.ma'\n",
      "student: 27\n"
     ]
    },
    {
     "name": "stdout",
     "output_type": "stream",
     "text": [
      "student: 28\n",
      "student: 29\n"
     ]
    },
    {
     "name": "stdout",
     "output_type": "stream",
     "text": [
      "student: 30\n",
      "not found 'alaachir@insea.ac.ma'\n",
      "not found 'olamhamdialaoui@insea.ac.ma'\n",
      "not found 'smaatouf@insea.ac.ma'\n",
      "student: 34\n",
      "student: 35\n",
      "student: 36\n"
     ]
    },
    {
     "name": "stdout",
     "output_type": "stream",
     "text": [
      "student: 37\n",
      "student: 38\n",
      "student: 39\n",
      "student: 40\n",
      "not found 'aramoudi@insea.ac.ma'\n",
      "student: 42\n",
      "student: 43\n",
      "not found 'esoummer@insea.ac.ma'\n"
     ]
    },
    {
     "name": "stdout",
     "output_type": "stream",
     "text": [
      "student: 45\n",
      "not found "
     ]
    },
    {
     "name": "stdout",
     "output_type": "stream",
     "text": [
      "'szarrouq@insea.ac.ma'\n",
      "not found 'yzouhri@insea.ac.ma'\n",
      "not found 'amenani@insea.ac.ma'\n",
      "student: 49\n",
      "student: 50\n",
      "student: 51\n",
      "not found 'acheddad@insea.ac.ma'\n",
      "not found 'aelomairi@insea.ac.ma'\n"
     ]
    },
    {
     "name": "stdout",
     "output_type": "stream",
     "text": [
      "not found 'asinare@insea.ac.ma'\n",
      "not found 'aoussar@insea.ac.ma'\n",
      "student: 56\n",
      "student: 57\n",
      "student: 58\n",
      "student: 59\n",
      "not found 'hchafai@insea.ac.ma'\n",
      "not found 'hhoumane@insea.ac.ma'\n",
      "not found 'hdah@insea.ac.ma'\n"
     ]
    },
    {
     "name": "stdout",
     "output_type": "stream",
     "text": [
      "student: 63\n"
     ]
    },
    {
     "name": "stdout",
     "output_type": "stream",
     "text": [
      "student: 64\n",
      "student: 65\n",
      "not found 'ibelmezouar@insea.ac.ma'\n",
      "not found 'kbensetti@insea.ac.ma'\n",
      "not found 'yakhallouq@insea.ac.ma'\n",
      "not found 'mamallah@insea.ac.ma'\n",
      "student: 70\n",
      "not found 'msidibé@insea.ac.ma'\n"
     ]
    },
    {
     "name": "stdout",
     "output_type": "stream",
     "text": [
      "not found 'nchahboun@insea.ac.ma'\n",
      "student: 73\n",
      "not found 'selhairech@insea.ac.ma'\n",
      "student: 75\n",
      "student: 76\n",
      "not found 'yelhilali@insea.ac.ma'\n",
      "not found 'yamaghouss@insea.ac.ma'\n",
      "not found 'ysadki@insea.ac.ma'\n"
     ]
    }
   ],
   "source": [
    "\n",
    "for email in emails:\n",
    "    name,gender,email,course,major = None,None,email,course,None\n",
    "    id_student=add_student(name,gender,email,course,major)\n",
    "    try:\n",
    "        data = groups.get_group(email).reset_index()\n",
    "        nb_abs = 0\n",
    "        #DURATION\n",
    "        duration=0\n",
    "        got_first_start=False\n",
    "        for index, row in data.iterrows():\n",
    "            start_str = row[\"Heure d'arrivée\"].replace(\" à\",\"\")\n",
    "            end_str   = row[\"Heure de départ\"].replace(\" à\",\"\")\n",
    "            start = datetime.datetime.strptime(start_str, '%d/%m/%Y %H:%M:%S')\n",
    "            end = datetime.datetime.strptime(end_str, '%d/%m/%Y %H:%M:%S')\n",
    "            duration = duration + ((end-start).total_seconds() / 60.0)\n",
    "            if not got_first_start:\n",
    "                got_first_start = True\n",
    "                first_start = start\n",
    "        if duration > 120:\n",
    "            duration=120\n",
    "        #NB LATES  \n",
    "        if ((first_start-start_course).total_seconds() / 60.0) > 15:\n",
    "            nb_lates = 1\n",
    "        else:\n",
    "            nb_lates = 0\n",
    "        \n",
    "        nb_pres = 1\n",
    "        \n",
    "        #ABS DURATION\n",
    "        abs_duration = 120-duration\n",
    "        \n",
    "        #DURATION IN INTEGER IN DB!\n",
    "        duration = int(duration)\n",
    "        \n",
    "        #is student\n",
    "        print(\"student:\",id_student)\n",
    "        if duration <= 15:\n",
    "            nb_abs = 1\n",
    "            nb_lates=0\n",
    "            nb_pres=0\n",
    "    \n",
    "    except KeyError as e:\n",
    "        print(\"not found\",e)\n",
    "        nb_abs = 1\n",
    "        abs_duration = 120\n",
    "        nb_lates=0\n",
    "        nb_pres=0\n",
    "        duration=0\n",
    "    #insert to data mart now\n",
    "    try:\n",
    "        mydb = psycopg2.connect(database=config[\"database\"], user=config[\"user\"], password=config[\"password\"], host=config[\"host\"], port=config[\"port\"], options=f'-c search_path=biabsence')\n",
    "        mycursor = mydb.cursor()\n",
    "        sql = \"INSERT INTO fact_table (id_time,id_prof,id_student,nb_abs,abs_duration,nb_lates,nb_pres,duration) VALUES (%s,%s,%s,%s,%s,%s,%s,%s)\"\n",
    "        val = (id_time,id_prof,id_student,nb_abs,abs_duration,nb_lates,nb_pres,duration)\n",
    "        mycursor.execute(sql, val)\n",
    "        mydb.commit()\n",
    "    except:\n",
    "        continue"
   ]
  },
  {
   "cell_type": "code",
   "execution_count": 17,
   "id": "0067bcb5",
   "metadata": {
    "execution": {
     "iopub.execute_input": "2021-06-20T15:46:26.138848Z",
     "iopub.status.busy": "2021-06-20T15:46:26.137929Z",
     "iopub.status.idle": "2021-06-20T15:46:26.145548Z",
     "shell.execute_reply": "2021-06-20T15:46:26.145958Z"
    },
    "jupyter": {
     "source_hidden": true
    },
    "papermill": {
     "duration": 0.0316,
     "end_time": "2021-06-20T15:46:26.146080",
     "exception": false,
     "start_time": "2021-06-20T15:46:26.114480",
     "status": "completed"
    },
    "tags": []
   },
   "outputs": [
    {
     "data": {
      "text/plain": [
       "0"
      ]
     },
     "execution_count": 17,
     "metadata": {},
     "output_type": "execute_result"
    }
   ],
   "source": [
    "os.system(f'mv \"{input_file}\" \"/home/anas/notebook/UseCase/processed/\"')"
   ]
  },
  {
   "cell_type": "code",
   "execution_count": null,
   "id": "a6a7deb4",
   "metadata": {
    "jupyter": {
     "source_hidden": true
    },
    "papermill": {
     "duration": 0.017941,
     "end_time": "2021-06-20T15:46:26.180734",
     "exception": false,
     "start_time": "2021-06-20T15:46:26.162793",
     "status": "completed"
    },
    "tags": []
   },
   "outputs": [],
   "source": []
  }
 ],
 "metadata": {
  "kernelspec": {
   "display_name": "Python 3",
   "language": "python",
   "name": "python3"
  },
  "language_info": {
   "codemirror_mode": {
    "name": "ipython",
    "version": 3
   },
   "file_extension": ".py",
   "mimetype": "text/x-python",
   "name": "python",
   "nbconvert_exporter": "python",
   "pygments_lexer": "ipython3",
   "version": "3.6.9"
  },
  "papermill": {
   "default_parameters": {},
   "duration": 3.511268,
   "end_time": "2021-06-20T15:46:26.506438",
   "environment_variables": {},
   "exception": null,
   "input_path": "/home/anas/notebook/UseCase/process_input_list.ipynb",
   "output_path": "/home/anas/notebook/UseCase/outs/out-process_input_list2021-06-20T15:44:53.233955+00:00.ipynb",
   "parameters": {
    "msgs": "Ran from Airflow at 2021-06-20T15:44:53.233955+00:00!"
   },
   "start_time": "2021-06-20T15:46:22.995170",
   "version": "2.3.3"
  }
 },
 "nbformat": 4,
 "nbformat_minor": 5
}