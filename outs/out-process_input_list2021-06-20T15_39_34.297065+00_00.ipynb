{
 "cells": [
  {
   "cell_type": "code",
   "execution_count": 1,
   "id": "39d862c8",
   "metadata": {
    "execution": {
     "iopub.execute_input": "2021-06-20T15:44:48.329931Z",
     "iopub.status.busy": "2021-06-20T15:44:48.329012Z",
     "iopub.status.idle": "2021-06-20T15:44:48.331980Z",
     "shell.execute_reply": "2021-06-20T15:44:48.333075Z"
    },
    "jupyter": {
     "source_hidden": true
    },
    "papermill": {
     "duration": 0.034629,
     "end_time": "2021-06-20T15:44:48.333291",
     "exception": false,
     "start_time": "2021-06-20T15:44:48.298662",
     "status": "completed"
    },
    "tags": [
     "injected-parameters"
    ]
   },
   "outputs": [],
   "source": [
    "# Parameters\n",
    "msgs = \"Ran from Airflow at 2021-06-20T15:39:34.297065+00:00!\"\n"
   ]
  },
  {
   "cell_type": "code",
   "execution_count": 2,
   "id": "13c6f718",
   "metadata": {
    "execution": {
     "iopub.execute_input": "2021-06-20T15:44:48.359234Z",
     "iopub.status.busy": "2021-06-20T15:44:48.358313Z",
     "iopub.status.idle": "2021-06-20T15:44:48.716796Z",
     "shell.execute_reply": "2021-06-20T15:44:48.716312Z"
    },
    "jupyter": {
     "source_hidden": true
    },
    "papermill": {
     "duration": 0.372203,
     "end_time": "2021-06-20T15:44:48.716937",
     "exception": false,
     "start_time": "2021-06-20T15:44:48.344734",
     "status": "completed"
    },
    "tags": []
   },
   "outputs": [],
   "source": [
    "import pandas as pd\n",
    "import psycopg2\n",
    "import os\n",
    "import json\n",
    "import datetime"
   ]
  },
  {
   "cell_type": "code",
   "execution_count": 3,
   "id": "f49514fe",
   "metadata": {
    "execution": {
     "iopub.execute_input": "2021-06-20T15:44:48.744074Z",
     "iopub.status.busy": "2021-06-20T15:44:48.743429Z",
     "iopub.status.idle": "2021-06-20T15:44:48.746667Z",
     "shell.execute_reply": "2021-06-20T15:44:48.746210Z"
    },
    "jupyter": {
     "source_hidden": true
    },
    "papermill": {
     "duration": 0.018691,
     "end_time": "2021-06-20T15:44:48.746780",
     "exception": false,
     "start_time": "2021-06-20T15:44:48.728089",
     "status": "completed"
    },
    "tags": []
   },
   "outputs": [
    {
     "name": "stdout",
     "output_type": "stream",
     "text": [
      "Config: {'database': 'datamart', 'user': 'postgres', 'password': 'intelrebel', 'host': 'localhost', 'port': '5432'}\n"
     ]
    }
   ],
   "source": [
    "with open(\"/home/anas/notebook/UseCase/config.json\") as f:\n",
    "    config = json.load(f)\n",
    "print(\"Config:\",config)"
   ]
  },
  {
   "cell_type": "code",
   "execution_count": 4,
   "id": "d9d40102",
   "metadata": {
    "execution": {
     "iopub.execute_input": "2021-06-20T15:44:48.773373Z",
     "iopub.status.busy": "2021-06-20T15:44:48.772549Z",
     "iopub.status.idle": "2021-06-20T15:44:48.776437Z",
     "shell.execute_reply": "2021-06-20T15:44:48.775937Z"
    },
    "jupyter": {
     "source_hidden": true
    },
    "papermill": {
     "duration": 0.018506,
     "end_time": "2021-06-20T15:44:48.776549",
     "exception": false,
     "start_time": "2021-06-20T15:44:48.758043",
     "status": "completed"
    },
    "tags": []
   },
   "outputs": [
    {
     "name": "stdout",
     "output_type": "stream",
     "text": [
      "will process: /home/anas/notebook/UseCase/input/meetingAttendanceReport(General)(3).csv\n"
     ]
    }
   ],
   "source": [
    "#read config file in input\n",
    "with open(\"/home/anas/notebook/UseCase/input_config.txt\") as f:\n",
    "    input_file=f.readline()\n",
    "print(\"will process:\",input_file)"
   ]
  },
  {
   "cell_type": "code",
   "execution_count": 5,
   "id": "6d2ea9e2",
   "metadata": {
    "execution": {
     "iopub.execute_input": "2021-06-20T15:44:48.803571Z",
     "iopub.status.busy": "2021-06-20T15:44:48.802739Z",
     "iopub.status.idle": "2021-06-20T15:44:48.806372Z",
     "shell.execute_reply": "2021-06-20T15:44:48.805910Z"
    },
    "jupyter": {
     "source_hidden": true
    },
    "papermill": {
     "duration": 0.018409,
     "end_time": "2021-06-20T15:44:48.806476",
     "exception": false,
     "start_time": "2021-06-20T15:44:48.788067",
     "status": "completed"
    },
    "tags": []
   },
   "outputs": [],
   "source": [
    "meta_data=[]\n",
    "log_call=[]\n",
    "lines=[]\n",
    "with open(input_file,encoding=\"utf-16\") as f:\n",
    "    lines=f.readlines()\n",
    "meta_data=lines[0:5]\n",
    "log_call=lines[6:]"
   ]
  },
  {
   "cell_type": "code",
   "execution_count": 6,
   "id": "03a595c6",
   "metadata": {
    "execution": {
     "iopub.execute_input": "2021-06-20T15:44:48.839100Z",
     "iopub.status.busy": "2021-06-20T15:44:48.838379Z",
     "iopub.status.idle": "2021-06-20T15:44:48.841285Z",
     "shell.execute_reply": "2021-06-20T15:44:48.841809Z"
    },
    "jupyter": {
     "source_hidden": true
    },
    "papermill": {
     "duration": 0.024001,
     "end_time": "2021-06-20T15:44:48.841939",
     "exception": false,
     "start_time": "2021-06-20T15:44:48.817938",
     "status": "completed"
    },
    "scrolled": true,
    "tags": []
   },
   "outputs": [
    {
     "data": {
      "text/plain": [
       "'DWH'"
      ]
     },
     "execution_count": 6,
     "metadata": {},
     "output_type": "execute_result"
    }
   ],
   "source": [
    "course = \"DWH\"\n",
    "course"
   ]
  },
  {
   "cell_type": "code",
   "execution_count": 7,
   "id": "7c932598",
   "metadata": {
    "execution": {
     "iopub.execute_input": "2021-06-20T15:44:48.869410Z",
     "iopub.status.busy": "2021-06-20T15:44:48.868642Z",
     "iopub.status.idle": "2021-06-20T15:44:48.888015Z",
     "shell.execute_reply": "2021-06-20T15:44:48.888485Z"
    },
    "jupyter": {
     "source_hidden": true
    },
    "papermill": {
     "duration": 0.034834,
     "end_time": "2021-06-20T15:44:48.888599",
     "exception": false,
     "start_time": "2021-06-20T15:44:48.853765",
     "status": "completed"
    },
    "tags": []
   },
   "outputs": [
    {
     "data": {
      "text/html": [
       "<div>\n",
       "<style scoped>\n",
       "    .dataframe tbody tr th:only-of-type {\n",
       "        vertical-align: middle;\n",
       "    }\n",
       "\n",
       "    .dataframe tbody tr th {\n",
       "        vertical-align: top;\n",
       "    }\n",
       "\n",
       "    .dataframe thead th {\n",
       "        text-align: right;\n",
       "    }\n",
       "</style>\n",
       "<table border=\"1\" class=\"dataframe\">\n",
       "  <thead>\n",
       "    <tr style=\"text-align: right;\">\n",
       "      <th></th>\n",
       "      <th>Nom complet</th>\n",
       "      <th>Heure d'arrivée</th>\n",
       "      <th>Heure de départ</th>\n",
       "      <th>Durée</th>\n",
       "      <th>E-mail</th>\n",
       "      <th>Rôle</th>\n",
       "    </tr>\n",
       "  </thead>\n",
       "  <tbody>\n",
       "    <tr>\n",
       "      <th>0</th>\n",
       "      <td>Imade BENELALLAM</td>\n",
       "      <td>14/04/2021 à 13:08:06</td>\n",
       "      <td>14/04/2021 à 15:35:57</td>\n",
       "      <td>2 h 27 m</td>\n",
       "      <td>i.benelallam@insea.ac.ma</td>\n",
       "      <td>Organisateur</td>\n",
       "    </tr>\n",
       "    <tr>\n",
       "      <th>1</th>\n",
       "      <td>Andre SINARE</td>\n",
       "      <td>14/04/2021 à 13:08:18</td>\n",
       "      <td>14/04/2021 à 14:42:38</td>\n",
       "      <td>1 h 34 m</td>\n",
       "      <td>asinare@insea.ac.ma</td>\n",
       "      <td>Présentateur</td>\n",
       "    </tr>\n",
       "    <tr>\n",
       "      <th>2</th>\n",
       "      <td>Chaimaa BELKARKOR</td>\n",
       "      <td>14/04/2021 à 13:08:25</td>\n",
       "      <td>14/04/2021 à 15:28:57</td>\n",
       "      <td>2 h 20 m</td>\n",
       "      <td>cbelkarkor@insea.ac.ma</td>\n",
       "      <td>Présentateur</td>\n",
       "    </tr>\n",
       "    <tr>\n",
       "      <th>3</th>\n",
       "      <td>Hibatallah BOUNAR</td>\n",
       "      <td>14/04/2021 à 13:08:51</td>\n",
       "      <td>14/04/2021 à 14:42:55</td>\n",
       "      <td>1 h 34 m</td>\n",
       "      <td>hbounar@insea.ac.ma</td>\n",
       "      <td>Présentateur</td>\n",
       "    </tr>\n",
       "    <tr>\n",
       "      <th>4</th>\n",
       "      <td>Mahamadou SANGARE</td>\n",
       "      <td>14/04/2021 à 13:09:08</td>\n",
       "      <td>14/04/2021 à 14:47:29</td>\n",
       "      <td>1 h 38 m</td>\n",
       "      <td>msangare@insea.ac.ma</td>\n",
       "      <td>Présentateur</td>\n",
       "    </tr>\n",
       "    <tr>\n",
       "      <th>...</th>\n",
       "      <td>...</td>\n",
       "      <td>...</td>\n",
       "      <td>...</td>\n",
       "      <td>...</td>\n",
       "      <td>...</td>\n",
       "      <td>...</td>\n",
       "    </tr>\n",
       "    <tr>\n",
       "      <th>82</th>\n",
       "      <td>Amine AJARRAY</td>\n",
       "      <td>14/04/2021 à 15:05:33</td>\n",
       "      <td>14/04/2021 à 15:06:58</td>\n",
       "      <td>1 m 24 s</td>\n",
       "      <td>aajarray@insea.ac.ma</td>\n",
       "      <td>Présentateur</td>\n",
       "    </tr>\n",
       "    <tr>\n",
       "      <th>83</th>\n",
       "      <td>Hajar CHAFAI</td>\n",
       "      <td>14/04/2021 à 14:17:22</td>\n",
       "      <td>14/04/2021 à 15:07:42</td>\n",
       "      <td>50 m 20 s</td>\n",
       "      <td>hchafai@insea.ac.ma</td>\n",
       "      <td>Présentateur</td>\n",
       "    </tr>\n",
       "    <tr>\n",
       "      <th>84</th>\n",
       "      <td>Yassine ZOUHRI</td>\n",
       "      <td>14/04/2021 à 14:27:34</td>\n",
       "      <td>14/04/2021 à 14:43:17</td>\n",
       "      <td>15 m 42 s</td>\n",
       "      <td>yzouhri@insea.ac.ma</td>\n",
       "      <td>Présentateur</td>\n",
       "    </tr>\n",
       "    <tr>\n",
       "      <th>85</th>\n",
       "      <td>Abderrahim ELBAHJI</td>\n",
       "      <td>14/04/2021 à 14:37:19</td>\n",
       "      <td>14/04/2021 à 14:42:58</td>\n",
       "      <td>5 m 39 s</td>\n",
       "      <td>aelbahji@insea.ac.ma</td>\n",
       "      <td>Présentateur</td>\n",
       "    </tr>\n",
       "    <tr>\n",
       "      <th>86</th>\n",
       "      <td>Kawtar BENSATTI</td>\n",
       "      <td>14/04/2021 à 14:46:43</td>\n",
       "      <td>14/04/2021 à 15:12:41</td>\n",
       "      <td>25 m 58 s</td>\n",
       "      <td>kbensatti@insea.ac.ma</td>\n",
       "      <td>Présentateur</td>\n",
       "    </tr>\n",
       "  </tbody>\n",
       "</table>\n",
       "<p>87 rows × 6 columns</p>\n",
       "</div>"
      ],
      "text/plain": [
       "           Nom complet        Heure d'arrivée        Heure de départ  \\\n",
       "0     Imade BENELALLAM  14/04/2021 à 13:08:06  14/04/2021 à 15:35:57   \n",
       "1         Andre SINARE  14/04/2021 à 13:08:18  14/04/2021 à 14:42:38   \n",
       "2    Chaimaa BELKARKOR  14/04/2021 à 13:08:25  14/04/2021 à 15:28:57   \n",
       "3    Hibatallah BOUNAR  14/04/2021 à 13:08:51  14/04/2021 à 14:42:55   \n",
       "4    Mahamadou SANGARE  14/04/2021 à 13:09:08  14/04/2021 à 14:47:29   \n",
       "..                 ...                    ...                    ...   \n",
       "82       Amine AJARRAY  14/04/2021 à 15:05:33  14/04/2021 à 15:06:58   \n",
       "83        Hajar CHAFAI  14/04/2021 à 14:17:22  14/04/2021 à 15:07:42   \n",
       "84      Yassine ZOUHRI  14/04/2021 à 14:27:34  14/04/2021 à 14:43:17   \n",
       "85  Abderrahim ELBAHJI  14/04/2021 à 14:37:19  14/04/2021 à 14:42:58   \n",
       "86     Kawtar BENSATTI  14/04/2021 à 14:46:43  14/04/2021 à 15:12:41   \n",
       "\n",
       "        Durée                    E-mail          Rôle  \n",
       "0    2 h 27 m  i.benelallam@insea.ac.ma  Organisateur  \n",
       "1    1 h 34 m       asinare@insea.ac.ma  Présentateur  \n",
       "2    2 h 20 m    cbelkarkor@insea.ac.ma  Présentateur  \n",
       "3    1 h 34 m       hbounar@insea.ac.ma  Présentateur  \n",
       "4    1 h 38 m      msangare@insea.ac.ma  Présentateur  \n",
       "..        ...                       ...           ...  \n",
       "82   1 m 24 s      aajarray@insea.ac.ma  Présentateur  \n",
       "83  50 m 20 s       hchafai@insea.ac.ma  Présentateur  \n",
       "84  15 m 42 s       yzouhri@insea.ac.ma  Présentateur  \n",
       "85   5 m 39 s      aelbahji@insea.ac.ma  Présentateur  \n",
       "86  25 m 58 s     kbensatti@insea.ac.ma  Présentateur  \n",
       "\n",
       "[87 rows x 6 columns]"
      ]
     },
     "execution_count": 7,
     "metadata": {},
     "output_type": "execute_result"
    }
   ],
   "source": [
    "with open(f\"/home/anas/notebook/UseCase/output/log_{input_file.split('/')[-1]}\",\"w\") as f:\n",
    "    for value in log_call:\n",
    "        f.write(value)\n",
    "    f.close()\n",
    "df_log = pd.read_csv(f\"/home/anas/notebook/UseCase/output/log_{input_file.split('/')[-1]}\",sep=\"\\t\")\n",
    "df_log"
   ]
  },
  {
   "cell_type": "code",
   "execution_count": 8,
   "id": "7f7b9fa1",
   "metadata": {
    "execution": {
     "iopub.execute_input": "2021-06-20T15:44:48.916389Z",
     "iopub.status.busy": "2021-06-20T15:44:48.915852Z",
     "iopub.status.idle": "2021-06-20T15:44:48.918509Z",
     "shell.execute_reply": "2021-06-20T15:44:48.918042Z"
    },
    "jupyter": {
     "source_hidden": true
    },
    "papermill": {
     "duration": 0.018462,
     "end_time": "2021-06-20T15:44:48.918607",
     "exception": false,
     "start_time": "2021-06-20T15:44:48.900145",
     "status": "completed"
    },
    "tags": []
   },
   "outputs": [],
   "source": [
    "start_str = meta_data[3].replace(\"Heure de début de la réunion\\t\",\"\").replace(\"\\n\",\"\").replace(\" à\",\"\")\n",
    "end_str   = meta_data[4].replace(\"Heure de fin\\t\",\"\").replace(\"\\n\",\"\").replace(\" à\",\"\")\n",
    "start_course = datetime.datetime.strptime(start_str, '%d/%m/%Y %H:%M:%S')\n",
    "end_course = datetime.datetime.strptime(end_str, '%d/%m/%Y %H:%M:%S')"
   ]
  },
  {
   "cell_type": "code",
   "execution_count": 9,
   "id": "74c1959a",
   "metadata": {
    "execution": {
     "iopub.execute_input": "2021-06-20T15:44:48.947250Z",
     "iopub.status.busy": "2021-06-20T15:44:48.946555Z",
     "iopub.status.idle": "2021-06-20T15:44:48.964273Z",
     "shell.execute_reply": "2021-06-20T15:44:48.964645Z"
    },
    "jupyter": {
     "source_hidden": true
    },
    "papermill": {
     "duration": 0.033831,
     "end_time": "2021-06-20T15:44:48.964740",
     "exception": false,
     "start_time": "2021-06-20T15:44:48.930909",
     "status": "completed"
    },
    "scrolled": true,
    "tags": []
   },
   "outputs": [
    {
     "name": "stdout",
     "output_type": "stream",
     "text": [
      "id_time : integer\n",
      "id_prof : integer\n",
      "id_student : integer\n",
      "nb_abs : integer\n",
      "abs_duration : double precision\n",
      "nb_lates : integer\n",
      "nb_pres : integer\n",
      "duration : integer\n"
     ]
    }
   ],
   "source": [
    "mydb = psycopg2.connect(database=config[\"database\"], user=config[\"user\"], password=config[\"password\"], host=config[\"host\"], port=config[\"port\"], options=f'-c search_path=biabsence')\n",
    "mycursor = mydb.cursor()\n",
    "table=\"fact_table\"\n",
    "mycursor.execute(f\"SELECT * FROM information_schema.columns WHERE table_schema = 'biabsence' AND table_name   = '{table}' ;\")\n",
    "myresult = mycursor.fetchall()\n",
    "for value in myresult:\n",
    "    print(value[3],\":\",value[7])"
   ]
  },
  {
   "cell_type": "code",
   "execution_count": 10,
   "id": "f0b1542d",
   "metadata": {
    "execution": {
     "iopub.execute_input": "2021-06-20T15:44:48.999525Z",
     "iopub.status.busy": "2021-06-20T15:44:48.998700Z",
     "iopub.status.idle": "2021-06-20T15:44:49.000813Z",
     "shell.execute_reply": "2021-06-20T15:44:49.001222Z"
    },
    "jupyter": {
     "source_hidden": true
    },
    "papermill": {
     "duration": 0.025509,
     "end_time": "2021-06-20T15:44:49.001332",
     "exception": false,
     "start_time": "2021-06-20T15:44:48.975823",
     "status": "completed"
    },
    "tags": []
   },
   "outputs": [],
   "source": [
    "def add_student(name,gender,email,course,major):\n",
    "    mydb = psycopg2.connect(database=config[\"database\"], user=config[\"user\"], password=config[\"password\"], host=config[\"host\"], port=config[\"port\"], options=f'-c search_path=biabsence')\n",
    "    mycursor = mydb.cursor()\n",
    "    mycursor.execute(f\"SELECT * FROM students where email ='{email}'\")\n",
    "    myresult = mycursor.fetchall()\n",
    "    if len(myresult) != 0:\n",
    "        return myresult[0][0]\n",
    "    if len(myresult) == 0:\n",
    "        sql = \"INSERT INTO students (name,gender,email,course,major) VALUES (%s,%s,%s,%s,%s)\"\n",
    "        val = (name,gender,email,course,major)\n",
    "        mycursor.execute(sql, val)\n",
    "        mydb.commit()\n",
    "        # print(mycursor.rowcount, \"record inserted.\")\n",
    "        mycursor.execute(f\"SELECT * FROM students where email ='{email}'\")\n",
    "        myresult = mycursor.fetchall()\n",
    "        return myresult[0][0]\n",
    "    \n",
    "def add_professor(name,email):\n",
    "    mydb = psycopg2.connect(database=config[\"database\"], user=config[\"user\"], password=config[\"password\"], host=config[\"host\"], port=config[\"port\"], options=f'-c search_path=biabsence')\n",
    "    mycursor = mydb.cursor()\n",
    "    mycursor.execute(f\"SELECT * FROM professors where email ='{email}'\")\n",
    "    myresult = mycursor.fetchall()\n",
    "    if len(myresult) != 0:\n",
    "        return myresult[0][0]\n",
    "    if len(myresult) == 0:\n",
    "        sql = \"INSERT INTO professors (name,email) VALUES (%s,%s)\"\n",
    "        val = (name,email)\n",
    "        mycursor.execute(sql, val)\n",
    "        mydb.commit()\n",
    "        # print(mycursor.rowcount, \"record inserted.\")\n",
    "        mycursor.execute(f\"SELECT * FROM professors where email ='{email}'\")\n",
    "        myresult = mycursor.fetchall()\n",
    "        return myresult[0][0]\n",
    "    \n",
    "def add_time(hour,day,month,year,date):\n",
    "    mydb = psycopg2.connect(database=config[\"database\"], user=config[\"user\"], password=config[\"password\"], host=config[\"host\"], port=config[\"port\"], options=f'-c search_path=biabsence')\n",
    "    mycursor = mydb.cursor()\n",
    "    mycursor.execute(f\"SELECT * FROM Time where year = {year} and month={month} and day={day} and hour={hour}\")\n",
    "    myresult = mycursor.fetchall()\n",
    "    if len(myresult) != 0:\n",
    "        return myresult[0][0]\n",
    "    if len(myresult) == 0:\n",
    "        sql = \"INSERT INTO time (hour,day,month,year,date) VALUES (%s,%s,%s,%s,%s)\"\n",
    "        val = (hour,day,month,year,date)\n",
    "        mycursor.execute(sql, val)\n",
    "        mydb.commit()\n",
    "        # print(mycursor.rowcount, \"record inserted.\")\n",
    "        mycursor.execute(f\"SELECT * FROM time where year = {year} and month={month} and day={day} and hour={hour}\")\n",
    "        myresult = mycursor.fetchall()\n",
    "        return myresult[0][0]"
   ]
  },
  {
   "cell_type": "code",
   "execution_count": 11,
   "id": "72ece278",
   "metadata": {
    "execution": {
     "iopub.execute_input": "2021-06-20T15:44:49.029098Z",
     "iopub.status.busy": "2021-06-20T15:44:49.028328Z",
     "iopub.status.idle": "2021-06-20T15:44:49.044649Z",
     "shell.execute_reply": "2021-06-20T15:44:49.044260Z"
    },
    "jupyter": {
     "source_hidden": true
    },
    "papermill": {
     "duration": 0.031685,
     "end_time": "2021-06-20T15:44:49.044741",
     "exception": false,
     "start_time": "2021-06-20T15:44:49.013056",
     "status": "completed"
    },
    "tags": []
   },
   "outputs": [
    {
     "data": {
      "text/plain": [
       "3"
      ]
     },
     "execution_count": 11,
     "metadata": {},
     "output_type": "execute_result"
    }
   ],
   "source": [
    "hour = start_course.hour\n",
    "day  = start_course.day\n",
    "month= start_course.month\n",
    "year = start_course.year\n",
    "date = start_course.strftime(\"%Y-%m-%d %H:%M:%S\")\n",
    "id_time=add_time(hour,day,month,year,date)\n",
    "id_time"
   ]
  },
  {
   "cell_type": "code",
   "execution_count": 12,
   "id": "43cfb06c",
   "metadata": {
    "execution": {
     "iopub.execute_input": "2021-06-20T15:44:49.081673Z",
     "iopub.status.busy": "2021-06-20T15:44:49.081080Z",
     "iopub.status.idle": "2021-06-20T15:44:49.096724Z",
     "shell.execute_reply": "2021-06-20T15:44:49.096314Z"
    },
    "jupyter": {
     "source_hidden": true
    },
    "papermill": {
     "duration": 0.037584,
     "end_time": "2021-06-20T15:44:49.096835",
     "exception": false,
     "start_time": "2021-06-20T15:44:49.059251",
     "status": "completed"
    },
    "scrolled": true,
    "tags": []
   },
   "outputs": [
    {
     "name": "stdout",
     "output_type": "stream",
     "text": [
      "professor: 1\n"
     ]
    }
   ],
   "source": [
    "#ADD PROFESSOR FROM LOG TO TABLE\n",
    "for index, row in df_log.iterrows():\n",
    "    if row[\"Rôle\"]==\"Organisateur\":\n",
    "        name,email = row[\"Nom complet\"],row[\"E-mail\"]\n",
    "        id_prof = add_professor(name,email)\n",
    "        print(\"professor:\",id_prof)"
   ]
  },
  {
   "cell_type": "code",
   "execution_count": 13,
   "id": "f3708b92",
   "metadata": {
    "execution": {
     "iopub.execute_input": "2021-06-20T15:44:49.131197Z",
     "iopub.status.busy": "2021-06-20T15:44:49.130472Z",
     "iopub.status.idle": "2021-06-20T15:44:49.132723Z",
     "shell.execute_reply": "2021-06-20T15:44:49.133131Z"
    },
    "jupyter": {
     "source_hidden": true
    },
    "papermill": {
     "duration": 0.023119,
     "end_time": "2021-06-20T15:44:49.133231",
     "exception": false,
     "start_time": "2021-06-20T15:44:49.110112",
     "status": "completed"
    },
    "tags": []
   },
   "outputs": [],
   "source": [
    "groups = df_log.groupby(\"E-mail\")"
   ]
  },
  {
   "cell_type": "code",
   "execution_count": 14,
   "id": "7924aacf",
   "metadata": {
    "execution": {
     "iopub.execute_input": "2021-06-20T15:44:49.163897Z",
     "iopub.status.busy": "2021-06-20T15:44:49.163070Z",
     "iopub.status.idle": "2021-06-20T15:44:49.169107Z",
     "shell.execute_reply": "2021-06-20T15:44:49.169467Z"
    },
    "jupyter": {
     "source_hidden": true
    },
    "papermill": {
     "duration": 0.023478,
     "end_time": "2021-06-20T15:44:49.169571",
     "exception": false,
     "start_time": "2021-06-20T15:44:49.146093",
     "status": "completed"
    },
    "tags": []
   },
   "outputs": [],
   "source": [
    "mydb = psycopg2.connect(database=config[\"database\"], user=config[\"user\"], password=config[\"password\"], host=config[\"host\"], port=config[\"port\"], options=f'-c search_path=biabsence')\n",
    "mycursor = mydb.cursor()\n",
    "mycursor.execute(f\"SELECT * FROM students\")\n",
    "myresult = mycursor.fetchall()\n",
    "emails=[]\n",
    "for result in myresult:\n",
    "    emails.append(result[3])"
   ]
  },
  {
   "cell_type": "code",
   "execution_count": 15,
   "id": "98dcdaad",
   "metadata": {
    "execution": {
     "iopub.execute_input": "2021-06-20T15:44:49.202064Z",
     "iopub.status.busy": "2021-06-20T15:44:49.201458Z",
     "iopub.status.idle": "2021-06-20T15:44:49.204610Z",
     "shell.execute_reply": "2021-06-20T15:44:49.204017Z"
    },
    "jupyter": {
     "source_hidden": true
    },
    "papermill": {
     "duration": 0.021336,
     "end_time": "2021-06-20T15:44:49.204726",
     "exception": false,
     "start_time": "2021-06-20T15:44:49.183390",
     "status": "completed"
    },
    "tags": []
   },
   "outputs": [
    {
     "name": "stdout",
     "output_type": "stream",
     "text": [
      "209.06666666666666\n"
     ]
    }
   ],
   "source": [
    "print((end_course-start_course).total_seconds() / 60.0)"
   ]
  },
  {
   "cell_type": "code",
   "execution_count": 16,
   "id": "a5f68fe7",
   "metadata": {
    "execution": {
     "iopub.execute_input": "2021-06-20T15:44:49.244768Z",
     "iopub.status.busy": "2021-06-20T15:44:49.243835Z",
     "iopub.status.idle": "2021-06-20T15:44:50.207498Z",
     "shell.execute_reply": "2021-06-20T15:44:50.207840Z"
    },
    "jupyter": {
     "source_hidden": true
    },
    "papermill": {
     "duration": 0.988686,
     "end_time": "2021-06-20T15:44:50.207965",
     "exception": false,
     "start_time": "2021-06-20T15:44:49.219279",
     "status": "completed"
    },
    "scrolled": true,
    "tags": []
   },
   "outputs": [
    {
     "name": "stdout",
     "output_type": "stream",
     "text": [
      "not found 'yaitmalek@insea.ac.ma'\n",
      "not found 'yaitmha@insea.ac.ma'\n",
      "student: 3\n",
      "student: 4\n"
     ]
    },
    {
     "name": "stdout",
     "output_type": "stream",
     "text": [
      "student: 5\n",
      "student: 6\n",
      "student: 7\n",
      "student: 8\n",
      "student: 9\n",
      "student: 10\n",
      "not found 'tebouzelmad@insea.ac.ma'\n",
      "not found 'cbouzouf@insea.ac.ma'\n"
     ]
    },
    {
     "name": "stdout",
     "output_type": "stream",
     "text": [
      "student: 13\n",
      "student: 14\n",
      "student: 15\n",
      "student: 16\n"
     ]
    },
    {
     "name": "stdout",
     "output_type": "stream",
     "text": [
      "student: 17\n",
      "not found 'aelkassmi@insea.ac.ma'\n",
      "student: 19\n",
      "student: 20\n"
     ]
    },
    {
     "name": "stdout",
     "output_type": "stream",
     "text": [
      "student: 21\n",
      "student: 22\n",
      "student: 23\n",
      "not found 'mafarfaoua@insea.ac.ma'\n",
      "not found 'hgaoui@insea.ac.ma'\n",
      "not found 'hhabbouza@insea.ac.ma'\n",
      "student: 27\n",
      "student: 28\n",
      "student: 29\n",
      "student: 30\n"
     ]
    },
    {
     "name": "stdout",
     "output_type": "stream",
     "text": [
      "student: 31\n",
      "student: 32\n",
      "student: 33\n",
      "student: 34\n"
     ]
    },
    {
     "name": "stdout",
     "output_type": "stream",
     "text": [
      "student: 35\n",
      "student: 36\n",
      "not found 'smellak@insea.ac.ma'\n",
      "student: 38\n"
     ]
    },
    {
     "name": "stdout",
     "output_type": "stream",
     "text": [
      "student: 39\n",
      "student: 40\n",
      "not found 'aramoudi@insea.ac.ma'\n",
      "student: 42\n",
      "student: 43\n",
      "student: 44\n",
      "student: 45\n",
      "not found 'szarrouq@insea.ac.ma'\n",
      "student: 47\n",
      "not found 'amenani@insea.ac.ma'\n"
     ]
    },
    {
     "name": "stdout",
     "output_type": "stream",
     "text": [
      "student: 49\n",
      "student: 50\n",
      "student: 51\n"
     ]
    },
    {
     "name": "stdout",
     "output_type": "stream",
     "text": [
      "not found 'acheddad@insea.ac.ma'\n",
      "not found 'aelomairi@insea.ac.ma'\n",
      "student: 54\n"
     ]
    },
    {
     "name": "stdout",
     "output_type": "stream",
     "text": [
      "student: 55\n",
      "not found 'ahamdi@insea.ac.ma'\n",
      "not found 'aelhadine@insea.ac.ma'\n",
      "student: 58\n",
      "student: 59\n",
      "student: 60\n",
      "not found 'hhoumane@insea.ac.ma'\n",
      "not found 'hdah@insea.ac.ma'\n",
      "student: 63\n",
      "student: 64\n",
      "student: 65\n"
     ]
    },
    {
     "name": "stdout",
     "output_type": "stream",
     "text": [
      "student: 66\n",
      "not found 'kbensetti@insea.ac.ma'\n",
      "student: 68\n"
     ]
    },
    {
     "name": "stdout",
     "output_type": "stream",
     "text": [
      "student: 69\n",
      "student: 70\n",
      "not found 'msidibé@insea.ac.ma'\n",
      "student: 72\n",
      "not found 'rouhmiz@insea.ac.ma'\n"
     ]
    },
    {
     "name": "stdout",
     "output_type": "stream",
     "text": [
      "not found 'selhairech@insea.ac.ma'\n",
      "student: 75\n",
      "student: 76\n",
      "student: 77\n",
      "not found 'yamaghouss@insea.ac.ma'\n",
      "not found 'ysadki@insea.ac.ma'\n"
     ]
    }
   ],
   "source": [
    "\n",
    "for email in emails:\n",
    "    name,gender,email,course,major = None,None,email,course,None\n",
    "    id_student=add_student(name,gender,email,course,major)\n",
    "    try:\n",
    "        data = groups.get_group(email).reset_index()\n",
    "        nb_abs = 0\n",
    "        #DURATION\n",
    "        duration=0\n",
    "        got_first_start=False\n",
    "        for index, row in data.iterrows():\n",
    "            start_str = row[\"Heure d'arrivée\"].replace(\" à\",\"\")\n",
    "            end_str   = row[\"Heure de départ\"].replace(\" à\",\"\")\n",
    "            start = datetime.datetime.strptime(start_str, '%d/%m/%Y %H:%M:%S')\n",
    "            end = datetime.datetime.strptime(end_str, '%d/%m/%Y %H:%M:%S')\n",
    "            duration = duration + ((end-start).total_seconds() / 60.0)\n",
    "            if not got_first_start:\n",
    "                got_first_start = True\n",
    "                first_start = start\n",
    "        if duration > 120:\n",
    "            duration=120\n",
    "        #NB LATES  \n",
    "        if ((first_start-start_course).total_seconds() / 60.0) > 15:\n",
    "            nb_lates = 1\n",
    "        else:\n",
    "            nb_lates = 0\n",
    "        \n",
    "        nb_pres = 1\n",
    "        \n",
    "        #ABS DURATION\n",
    "        abs_duration = 120-duration\n",
    "        \n",
    "        #DURATION IN INTEGER IN DB!\n",
    "        duration = int(duration)\n",
    "        \n",
    "        #is student\n",
    "        print(\"student:\",id_student)\n",
    "        if duration <= 15:\n",
    "            nb_abs = 1\n",
    "            nb_lates=0\n",
    "            nb_pres=0\n",
    "    \n",
    "    except KeyError as e:\n",
    "        print(\"not found\",e)\n",
    "        nb_abs = 1\n",
    "        abs_duration = 120\n",
    "        nb_lates=0\n",
    "        nb_pres=0\n",
    "        duration=0\n",
    "    #insert to data mart now\n",
    "    try:\n",
    "        mydb = psycopg2.connect(database=config[\"database\"], user=config[\"user\"], password=config[\"password\"], host=config[\"host\"], port=config[\"port\"], options=f'-c search_path=biabsence')\n",
    "        mycursor = mydb.cursor()\n",
    "        sql = \"INSERT INTO fact_table (id_time,id_prof,id_student,nb_abs,abs_duration,nb_lates,nb_pres,duration) VALUES (%s,%s,%s,%s,%s,%s,%s,%s)\"\n",
    "        val = (id_time,id_prof,id_student,nb_abs,abs_duration,nb_lates,nb_pres,duration)\n",
    "        mycursor.execute(sql, val)\n",
    "        mydb.commit()\n",
    "    except:\n",
    "        continue"
   ]
  },
  {
   "cell_type": "code",
   "execution_count": 17,
   "id": "0067bcb5",
   "metadata": {
    "execution": {
     "iopub.execute_input": "2021-06-20T15:44:50.251037Z",
     "iopub.status.busy": "2021-06-20T15:44:50.250262Z",
     "iopub.status.idle": "2021-06-20T15:44:50.259693Z",
     "shell.execute_reply": "2021-06-20T15:44:50.260154Z"
    },
    "jupyter": {
     "source_hidden": true
    },
    "papermill": {
     "duration": 0.03421,
     "end_time": "2021-06-20T15:44:50.260285",
     "exception": false,
     "start_time": "2021-06-20T15:44:50.226075",
     "status": "completed"
    },
    "tags": []
   },
   "outputs": [
    {
     "data": {
      "text/plain": [
       "0"
      ]
     },
     "execution_count": 17,
     "metadata": {},
     "output_type": "execute_result"
    }
   ],
   "source": [
    "os.system(f'mv \"{input_file}\" \"/home/anas/notebook/UseCase/processed/\"')"
   ]
  },
  {
   "cell_type": "code",
   "execution_count": null,
   "id": "a6a7deb4",
   "metadata": {
    "jupyter": {
     "source_hidden": true
    },
    "papermill": {
     "duration": 0.016786,
     "end_time": "2021-06-20T15:44:50.294246",
     "exception": false,
     "start_time": "2021-06-20T15:44:50.277460",
     "status": "completed"
    },
    "tags": []
   },
   "outputs": [],
   "source": []
  }
 ],
 "metadata": {
  "kernelspec": {
   "display_name": "Python 3",
   "language": "python",
   "name": "python3"
  },
  "language_info": {
   "codemirror_mode": {
    "name": "ipython",
    "version": 3
   },
   "file_extension": ".py",
   "mimetype": "text/x-python",
   "name": "python",
   "nbconvert_exporter": "python",
   "pygments_lexer": "ipython3",
   "version": "3.6.9"
  },
  "papermill": {
   "default_parameters": {},
   "duration": 3.528206,
   "end_time": "2021-06-20T15:44:50.619705",
   "environment_variables": {},
   "exception": null,
   "input_path": "/home/anas/notebook/UseCase/process_input_list.ipynb",
   "output_path": "/home/anas/notebook/UseCase/outs/out-process_input_list2021-06-20T15:39:34.297065+00:00.ipynb",
   "parameters": {
    "msgs": "Ran from Airflow at 2021-06-20T15:39:34.297065+00:00!"
   },
   "start_time": "2021-06-20T15:44:47.091499",
   "version": "2.3.3"
  }
 },
 "nbformat": 4,
 "nbformat_minor": 5
}