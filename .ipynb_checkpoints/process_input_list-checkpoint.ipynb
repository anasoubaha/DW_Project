{
 "cells": [
  {
   "cell_type": "code",
   "execution_count": 1,
   "id": "13c6f718",
   "metadata": {},
   "outputs": [],
   "source": [
    "import pandas as pd\n",
    "import psycopg2\n",
    "import os\n",
    "import json\n",
    "import datetime"
   ]
  },
  {
   "cell_type": "code",
   "execution_count": 2,
   "id": "f49514fe",
   "metadata": {},
   "outputs": [
    {
     "name": "stdout",
     "output_type": "stream",
     "text": [
      "Config: {'database': 'datamart', 'user': 'postgres', 'password': 'intelrebel', 'host': 'localhost', 'port': '5432'}\n"
     ]
    }
   ],
   "source": [
    "with open(\"/home/anas/notebook/UseCase/config.json\") as f:\n",
    "    config = json.load(f)\n",
    "print(\"Config:\",config)"
   ]
  },
  {
   "cell_type": "code",
   "execution_count": 8,
   "id": "d9d40102",
   "metadata": {},
   "outputs": [
    {
     "name": "stdout",
     "output_type": "stream",
     "text": [
      "will process: /home/anas/notebook/UseCase/input/meetingAttendanceReport(General).csv\n"
     ]
    }
   ],
   "source": [
    "#read config file in input\n",
    "with open(\"/home/anas/notebook/UseCase/input_config.txt\") as f:\n",
    "    input_file=f.readline()\n",
    "print(\"will process:\",input_file)"
   ]
  },
  {
   "cell_type": "code",
   "execution_count": 9,
   "id": "6d2ea9e2",
   "metadata": {},
   "outputs": [],
   "source": [
    "meta_data=[]\n",
    "log_call=[]\n",
    "lines=[]\n",
    "with open(input_file,encoding=\"utf-16\") as f:\n",
    "    lines=f.readlines()\n",
    "meta_data=lines[0:5]\n",
    "log_call=lines[6:]"
   ]
  },
  {
   "cell_type": "code",
   "execution_count": 32,
   "id": "03a595c6",
   "metadata": {
    "scrolled": true
   },
   "outputs": [
    {
     "data": {
      "text/plain": [
       "'DWH'"
      ]
     },
     "execution_count": 32,
     "metadata": {},
     "output_type": "execute_result"
    }
   ],
   "source": [
    "course = \"DWH\"\n",
    "course"
   ]
  },
  {
   "cell_type": "code",
   "execution_count": 33,
   "id": "7c932598",
   "metadata": {},
   "outputs": [
    {
     "data": {
      "text/html": [
       "<div>\n",
       "<style scoped>\n",
       "    .dataframe tbody tr th:only-of-type {\n",
       "        vertical-align: middle;\n",
       "    }\n",
       "\n",
       "    .dataframe tbody tr th {\n",
       "        vertical-align: top;\n",
       "    }\n",
       "\n",
       "    .dataframe thead th {\n",
       "        text-align: right;\n",
       "    }\n",
       "</style>\n",
       "<table border=\"1\" class=\"dataframe\">\n",
       "  <thead>\n",
       "    <tr style=\"text-align: right;\">\n",
       "      <th></th>\n",
       "      <th>Nom complet</th>\n",
       "      <th>Heure d'arrivée</th>\n",
       "      <th>Heure de départ</th>\n",
       "      <th>Durée</th>\n",
       "      <th>E-mail</th>\n",
       "      <th>Rôle</th>\n",
       "    </tr>\n",
       "  </thead>\n",
       "  <tbody>\n",
       "    <tr>\n",
       "      <th>0</th>\n",
       "      <td>Imade BENELALLAM</td>\n",
       "      <td>30/03/2021 à 14:01:32</td>\n",
       "      <td>30/03/2021 à 16:04:55</td>\n",
       "      <td>2 h 3 m</td>\n",
       "      <td>i.benelallam@insea.ac.ma</td>\n",
       "      <td>Organisateur</td>\n",
       "    </tr>\n",
       "    <tr>\n",
       "      <th>1</th>\n",
       "      <td>Chaimaa BELKARKOR</td>\n",
       "      <td>30/03/2021 à 14:01:40</td>\n",
       "      <td>30/03/2021 à 16:06:37</td>\n",
       "      <td>2 h 4 m</td>\n",
       "      <td>cbelkarkor@insea.ac.ma</td>\n",
       "      <td>Présentateur</td>\n",
       "    </tr>\n",
       "    <tr>\n",
       "      <th>2</th>\n",
       "      <td>Niima CHIGR</td>\n",
       "      <td>30/03/2021 à 14:01:47</td>\n",
       "      <td>30/03/2021 à 16:05:29</td>\n",
       "      <td>2 h 3 m</td>\n",
       "      <td>nchigr@insea.ac.ma</td>\n",
       "      <td>Présentateur</td>\n",
       "    </tr>\n",
       "    <tr>\n",
       "      <th>3</th>\n",
       "      <td>Achraf BALIJ</td>\n",
       "      <td>30/03/2021 à 14:02:06</td>\n",
       "      <td>30/03/2021 à 16:05:04</td>\n",
       "      <td>2 h 2 m</td>\n",
       "      <td>abalij@insea.ac.ma</td>\n",
       "      <td>Présentateur</td>\n",
       "    </tr>\n",
       "    <tr>\n",
       "      <th>4</th>\n",
       "      <td>Zakariae JAAFARI</td>\n",
       "      <td>30/03/2021 à 14:02:09</td>\n",
       "      <td>30/03/2021 à 16:05:03</td>\n",
       "      <td>2 h 2 m</td>\n",
       "      <td>zjaafari@insea.ac.ma</td>\n",
       "      <td>Présentateur</td>\n",
       "    </tr>\n",
       "    <tr>\n",
       "      <th>...</th>\n",
       "      <td>...</td>\n",
       "      <td>...</td>\n",
       "      <td>...</td>\n",
       "      <td>...</td>\n",
       "      <td>...</td>\n",
       "      <td>...</td>\n",
       "    </tr>\n",
       "    <tr>\n",
       "      <th>85</th>\n",
       "      <td>Achraf RAMOUDI</td>\n",
       "      <td>30/03/2021 à 14:38:27</td>\n",
       "      <td>30/03/2021 à 16:12:48</td>\n",
       "      <td>1 h 34 m</td>\n",
       "      <td>aramoudi@insea.ac.ma</td>\n",
       "      <td>Présentateur</td>\n",
       "    </tr>\n",
       "    <tr>\n",
       "      <th>86</th>\n",
       "      <td>Youness MOUZAKI</td>\n",
       "      <td>30/03/2021 à 15:17:52</td>\n",
       "      <td>30/03/2021 à 16:05:02</td>\n",
       "      <td>47 m 9 s</td>\n",
       "      <td>ymouzaki@insea.ac.ma</td>\n",
       "      <td>Présentateur</td>\n",
       "    </tr>\n",
       "    <tr>\n",
       "      <th>87</th>\n",
       "      <td>Hamdi HABBOUZA</td>\n",
       "      <td>30/03/2021 à 15:24:12</td>\n",
       "      <td>30/03/2021 à 16:08:04</td>\n",
       "      <td>43 m 52 s</td>\n",
       "      <td>hhabbouza@insea.ac.ma</td>\n",
       "      <td>Présentateur</td>\n",
       "    </tr>\n",
       "    <tr>\n",
       "      <th>88</th>\n",
       "      <td>Ayoub ELHADINE</td>\n",
       "      <td>30/03/2021 à 15:28:27</td>\n",
       "      <td>30/03/2021 à 16:01:32</td>\n",
       "      <td>33 m 4 s</td>\n",
       "      <td>aelhadine@insea.ac.ma</td>\n",
       "      <td>Présentateur</td>\n",
       "    </tr>\n",
       "    <tr>\n",
       "      <th>89</th>\n",
       "      <td>Ayoub ELHADINE</td>\n",
       "      <td>30/03/2021 à 16:02:51</td>\n",
       "      <td>30/03/2021 à 16:05:03</td>\n",
       "      <td>2 m 12 s</td>\n",
       "      <td>aelhadine@insea.ac.ma</td>\n",
       "      <td>Présentateur</td>\n",
       "    </tr>\n",
       "  </tbody>\n",
       "</table>\n",
       "<p>90 rows × 6 columns</p>\n",
       "</div>"
      ],
      "text/plain": [
       "          Nom complet        Heure d'arrivée        Heure de départ  \\\n",
       "0    Imade BENELALLAM  30/03/2021 à 14:01:32  30/03/2021 à 16:04:55   \n",
       "1   Chaimaa BELKARKOR  30/03/2021 à 14:01:40  30/03/2021 à 16:06:37   \n",
       "2         Niima CHIGR  30/03/2021 à 14:01:47  30/03/2021 à 16:05:29   \n",
       "3        Achraf BALIJ  30/03/2021 à 14:02:06  30/03/2021 à 16:05:04   \n",
       "4    Zakariae JAAFARI  30/03/2021 à 14:02:09  30/03/2021 à 16:05:03   \n",
       "..                ...                    ...                    ...   \n",
       "85     Achraf RAMOUDI  30/03/2021 à 14:38:27  30/03/2021 à 16:12:48   \n",
       "86    Youness MOUZAKI  30/03/2021 à 15:17:52  30/03/2021 à 16:05:02   \n",
       "87     Hamdi HABBOUZA  30/03/2021 à 15:24:12  30/03/2021 à 16:08:04   \n",
       "88     Ayoub ELHADINE  30/03/2021 à 15:28:27  30/03/2021 à 16:01:32   \n",
       "89     Ayoub ELHADINE  30/03/2021 à 16:02:51  30/03/2021 à 16:05:03   \n",
       "\n",
       "        Durée                    E-mail          Rôle  \n",
       "0     2 h 3 m  i.benelallam@insea.ac.ma  Organisateur  \n",
       "1     2 h 4 m    cbelkarkor@insea.ac.ma  Présentateur  \n",
       "2     2 h 3 m        nchigr@insea.ac.ma  Présentateur  \n",
       "3     2 h 2 m        abalij@insea.ac.ma  Présentateur  \n",
       "4     2 h 2 m      zjaafari@insea.ac.ma  Présentateur  \n",
       "..        ...                       ...           ...  \n",
       "85   1 h 34 m      aramoudi@insea.ac.ma  Présentateur  \n",
       "86   47 m 9 s      ymouzaki@insea.ac.ma  Présentateur  \n",
       "87  43 m 52 s     hhabbouza@insea.ac.ma  Présentateur  \n",
       "88   33 m 4 s     aelhadine@insea.ac.ma  Présentateur  \n",
       "89   2 m 12 s     aelhadine@insea.ac.ma  Présentateur  \n",
       "\n",
       "[90 rows x 6 columns]"
      ]
     },
     "execution_count": 33,
     "metadata": {},
     "output_type": "execute_result"
    }
   ],
   "source": [
    "with open(f\"/home/anas/notebook/UseCase/output/log_{input_file.split('/')[-1]}\",\"w\") as f:\n",
    "    for value in log_call:\n",
    "        f.write(value)\n",
    "    f.close()\n",
    "df_log = pd.read_csv(f\"/home/anas/notebook/UseCase/output/log_{input_file.split('/')[-1]}\",sep=\"\\t\")\n",
    "df_log"
   ]
  },
  {
   "cell_type": "code",
   "execution_count": 34,
   "id": "7f7b9fa1",
   "metadata": {},
   "outputs": [],
   "source": [
    "start_str = meta_data[3].replace(\"Heure de début de la réunion\\t\",\"\").replace(\"\\n\",\"\").replace(\" à\",\"\")\n",
    "end_str   = meta_data[4].replace(\"Heure de fin\\t\",\"\").replace(\"\\n\",\"\").replace(\" à\",\"\")\n",
    "start_course = datetime.datetime.strptime(start_str, '%d/%m/%Y %H:%M:%S')\n",
    "end_course = datetime.datetime.strptime(end_str, '%d/%m/%Y %H:%M:%S')"
   ]
  },
  {
   "cell_type": "code",
   "execution_count": 35,
   "id": "74c1959a",
   "metadata": {
    "scrolled": true
   },
   "outputs": [
    {
     "name": "stdout",
     "output_type": "stream",
     "text": [
      "id_prof : integer\n",
      "id_student : integer\n",
      "nb_abs : integer\n",
      "abs_duration : double precision\n",
      "nb_lates : integer\n",
      "nb_pres : integer\n",
      "duration : integer\n",
      "id_time : integer\n"
     ]
    }
   ],
   "source": [
    "mydb = psycopg2.connect(database=config[\"database\"], user=config[\"user\"], password=config[\"password\"], host=config[\"host\"], port=config[\"port\"], options=f'-c search_path=biabsence')\n",
    "mycursor = mydb.cursor()\n",
    "table=\"fact_table\"\n",
    "mycursor.execute(f\"SELECT * FROM information_schema.columns WHERE table_schema = 'biabsence' AND table_name   = '{table}' ;\")\n",
    "myresult = mycursor.fetchall()\n",
    "for value in myresult:\n",
    "    print(value[3],\":\",value[7])"
   ]
  },
  {
   "cell_type": "code",
   "execution_count": 36,
   "id": "f0b1542d",
   "metadata": {},
   "outputs": [],
   "source": [
    "def add_student(name,gender,email,course,major):\n",
    "    mydb = psycopg2.connect(database=config[\"database\"], user=config[\"user\"], password=config[\"password\"], host=config[\"host\"], port=config[\"port\"], options=f'-c search_path=biabsence')\n",
    "    mycursor = mydb.cursor()\n",
    "    mycursor.execute(f\"SELECT * FROM students where email ='{email}'\")\n",
    "    myresult = mycursor.fetchall()\n",
    "    if len(myresult) != 0:\n",
    "        return myresult[0][0]\n",
    "    if len(myresult) == 0:\n",
    "        sql = \"INSERT INTO students (name,gender,email,course,major) VALUES (%s,%s,%s,%s,%s)\"\n",
    "        val = (name,gender,email,course,major)\n",
    "        mycursor.execute(sql, val)\n",
    "        mydb.commit()\n",
    "        # print(mycursor.rowcount, \"record inserted.\")\n",
    "        mycursor.execute(f\"SELECT * FROM students where email ='{email}'\")\n",
    "        myresult = mycursor.fetchall()\n",
    "        return myresult[0][0]\n",
    "    \n",
    "def add_professor(name,email):\n",
    "    mydb = psycopg2.connect(database=config[\"database\"], user=config[\"user\"], password=config[\"password\"], host=config[\"host\"], port=config[\"port\"], options=f'-c search_path=biabsence')\n",
    "    mycursor = mydb.cursor()\n",
    "    mycursor.execute(f\"SELECT * FROM professors where email ='{email}'\")\n",
    "    myresult = mycursor.fetchall()\n",
    "    if len(myresult) != 0:\n",
    "        return myresult[0][0]\n",
    "    if len(myresult) == 0:\n",
    "        sql = \"INSERT INTO professors (name,email) VALUES (%s,%s)\"\n",
    "        val = (name,email)\n",
    "        mycursor.execute(sql, val)\n",
    "        mydb.commit()\n",
    "        # print(mycursor.rowcount, \"record inserted.\")\n",
    "        mycursor.execute(f\"SELECT * FROM professors where email ='{email}'\")\n",
    "        myresult = mycursor.fetchall()\n",
    "        return myresult[0][0]\n",
    "    \n",
    "def add_time(hour,day,month,year,date):\n",
    "    mydb = psycopg2.connect(database=config[\"database\"], user=config[\"user\"], password=config[\"password\"], host=config[\"host\"], port=config[\"port\"], options=f'-c search_path=biabsence')\n",
    "    mycursor = mydb.cursor()\n",
    "    mycursor.execute(f\"SELECT * FROM Time where year = {year} and month={month} and day={day} and hour={hour}\")\n",
    "    myresult = mycursor.fetchall()\n",
    "    if len(myresult) != 0:\n",
    "        return myresult[0][0]\n",
    "    if len(myresult) == 0:\n",
    "        sql = \"INSERT INTO time (hour,day,month,year,date) VALUES (%s,%s,%s,%s,%s)\"\n",
    "        val = (hour,day,month,year,date)\n",
    "        mycursor.execute(sql, val)\n",
    "        mydb.commit()\n",
    "        # print(mycursor.rowcount, \"record inserted.\")\n",
    "        mycursor.execute(f\"SELECT * FROM time where year = {year} and month={month} and day={day} and hour={hour}\")\n",
    "        myresult = mycursor.fetchall()\n",
    "        return myresult[0][0]"
   ]
  },
  {
   "cell_type": "code",
   "execution_count": 37,
   "id": "72ece278",
   "metadata": {},
   "outputs": [
    {
     "data": {
      "text/plain": [
       "1"
      ]
     },
     "execution_count": 37,
     "metadata": {},
     "output_type": "execute_result"
    }
   ],
   "source": [
    "hour = start_course.hour\n",
    "day  = start_course.day\n",
    "month= start_course.month\n",
    "year = start_course.year\n",
    "date = start_course.strftime(\"%Y-%m-%d %H:%M:%S\")\n",
    "id_time=add_time(hour,day,month,year,date)\n",
    "id_time"
   ]
  },
  {
   "cell_type": "code",
   "execution_count": 38,
   "id": "43cfb06c",
   "metadata": {
    "scrolled": true
   },
   "outputs": [
    {
     "name": "stdout",
     "output_type": "stream",
     "text": [
      "professor: 1\n"
     ]
    }
   ],
   "source": [
    "for index, row in df_log.iterrows():\n",
    "    if row[\"Rôle\"]==\"Organisateur\":\n",
    "        name,email = row[\"Nom complet\"],row[\"E-mail\"]\n",
    "        id_prof = add_professor(name,email)\n",
    "        print(\"professor:\",id_prof)"
   ]
  },
  {
   "cell_type": "code",
   "execution_count": 39,
   "id": "f3708b92",
   "metadata": {},
   "outputs": [],
   "source": [
    "groups = df_log.groupby(\"E-mail\")"
   ]
  },
  {
   "cell_type": "code",
   "execution_count": 49,
   "id": "7924aacf",
   "metadata": {},
   "outputs": [],
   "source": [
    "mydb = psycopg2.connect(database=config[\"database\"], user=config[\"user\"], password=config[\"password\"], host=config[\"host\"], port=config[\"port\"], options=f'-c search_path=biabsence')\n",
    "mycursor = mydb.cursor()\n",
    "mycursor.execute(f\"SELECT * FROM students\")\n",
    "myresult = mycursor.fetchall()\n",
    "emails=[]\n",
    "for result in myresult:\n",
    "    emails.append(result[3])"
   ]
  },
  {
   "cell_type": "code",
   "execution_count": 50,
   "id": "98dcdaad",
   "metadata": {},
   "outputs": [
    {
     "name": "stdout",
     "output_type": "stream",
     "text": [
      "176.6\n"
     ]
    }
   ],
   "source": [
    "print((end_course-start_course).total_seconds() / 60.0)"
   ]
  },
  {
   "cell_type": "code",
   "execution_count": 51,
   "id": "a5f68fe7",
   "metadata": {
    "scrolled": true
   },
   "outputs": [
    {
     "name": "stdout",
     "output_type": "stream",
     "text": [
      "student: 1\n",
      "student: 2\n",
      "student: 3\n",
      "student: 4\n",
      "student: 5\n",
      "student: 6\n",
      "student: 7\n",
      "student: 8\n",
      "student: 9\n",
      "student: 10\n",
      "student: 11\n",
      "student: 12\n",
      "student: 13\n",
      "student: 14\n",
      "student: 15\n",
      "student: 16\n",
      "student: 17\n",
      "student: 18\n",
      "not found 'selkhyati@insea.ac.ma'\n",
      "student: 20\n",
      "student: 21\n",
      "student: 22\n",
      "student: 23\n",
      "student: 24\n",
      "student: 25\n",
      "student: 26\n",
      "student: 27\n",
      "student: 28\n",
      "student: 29\n",
      "student: 30\n",
      "student: 31\n",
      "student: 32\n",
      "student: 33\n",
      "student: 34\n",
      "student: 35\n",
      "student: 36\n",
      "student: 37\n",
      "student: 38\n",
      "student: 39\n",
      "student: 40\n",
      "student: 41\n",
      "student: 42\n",
      "student: 43\n",
      "student: 44\n",
      "student: 45\n",
      "student: 46\n",
      "student: 47\n",
      "student: 48\n",
      "student: 49\n",
      "student: 50\n",
      "student: 51\n",
      "not found 'acheddad@insea.ac.ma'\n",
      "student: 53\n",
      "student: 54\n",
      "student: 55\n",
      "not found 'ahamdi@insea.ac.ma'\n",
      "student: 57\n",
      "student: 58\n",
      "student: 59\n",
      "student: 60\n",
      "student: 61\n",
      "student: 62\n",
      "student: 63\n",
      "student: 64\n",
      "student: 65\n",
      "student: 66\n",
      "not found 'kbensetti@insea.ac.ma'\n",
      "student: 68\n",
      "student: 69\n",
      "student: 70\n",
      "not found 'msidibé@insea.ac.ma'\n",
      "student: 72\n",
      "student: 73\n",
      "student: 74\n",
      "student: 75\n",
      "student: 76\n",
      "student: 77\n",
      "not found 'yamaghouss@insea.ac.ma'\n",
      "student: 79\n",
      "not found 'm'\n",
      "not found 'f'\n"
     ]
    }
   ],
   "source": [
    "\n",
    "for email in emails:\n",
    "    name,gender,email,course,major = None,None,email,course,None\n",
    "    id_student=add_student(name,gender,email,course,major)\n",
    "    try:\n",
    "        data = groups.get_group(email).reset_index()\n",
    "        nb_abs = 0\n",
    "        #DURATION\n",
    "        duration=0\n",
    "        got_first_start=False\n",
    "        for index, row in data.iterrows():\n",
    "            start_str = row[\"Heure d'arrivée\"].replace(\" à\",\"\")\n",
    "            end_str   = row[\"Heure de départ\"].replace(\" à\",\"\")\n",
    "            start = datetime.datetime.strptime(start_str, '%d/%m/%Y %H:%M:%S')\n",
    "            end = datetime.datetime.strptime(end_str, '%d/%m/%Y %H:%M:%S')\n",
    "            duration = duration + ((end-start).total_seconds() / 60.0)\n",
    "            if not got_first_start:\n",
    "                got_first_start = True\n",
    "                first_start = start\n",
    "        if duration > 120:\n",
    "            duration=120\n",
    "        #NB LATES  \n",
    "        if ((first_start-start_course).total_seconds() / 60.0) > 15:\n",
    "            nb_lates = 1\n",
    "        else:\n",
    "            nb_lates = 0\n",
    "        \n",
    "        nb_pres = 1\n",
    "        \n",
    "        #ABS DURATION\n",
    "        abs_duration = 120-duration\n",
    "        \n",
    "        #DURATION IN INTEGER IN DB!\n",
    "        duration = int(duration)\n",
    "        \n",
    "        #is student\n",
    "        print(\"student:\",id_student)\n",
    "        if duration <= 15:\n",
    "            nb_abs = 1\n",
    "            nb_lates=0\n",
    "            nb_pres=0\n",
    "    \n",
    "    except KeyError as e:\n",
    "        print(\"not found\",e)\n",
    "        nb_abs = 1\n",
    "        abs_duration = 120\n",
    "        nb_lates=0\n",
    "        nb_pres=0\n",
    "        duration=0\n",
    "    #insert to data mart now\n",
    "    try:\n",
    "        mydb = psycopg2.connect(database=config[\"database\"], user=config[\"user\"], password=config[\"password\"], host=config[\"host\"], port=config[\"port\"], options=f'-c search_path=biabsence')\n",
    "        mycursor = mydb.cursor()\n",
    "        sql = \"INSERT INTO fact_table (id_time,id_prof,id_student,nb_abs,abs_duration,nb_lates,nb_pres,duration) VALUES (%s,%s,%s,%s,%s,%s,%s,%s)\"\n",
    "        val = (id_time,id_prof,id_student,nb_abs,abs_duration,nb_lates,nb_pres,duration)\n",
    "        mycursor.execute(sql, val)\n",
    "        mydb.commit()\n",
    "    except:\n",
    "        continue"
   ]
  },
  {
   "cell_type": "code",
   "execution_count": 53,
   "id": "0067bcb5",
   "metadata": {},
   "outputs": [
    {
     "data": {
      "text/plain": [
       "0"
      ]
     },
     "execution_count": 53,
     "metadata": {},
     "output_type": "execute_result"
    }
   ],
   "source": [
    "os.system(f'mv \"{input_file}\" \"/home/anas/notebook/UseCase/processed/\"')"
   ]
  },
  {
   "cell_type": "code",
   "execution_count": null,
   "id": "a6a7deb4",
   "metadata": {},
   "outputs": [],
   "source": []
  }
 ],
 "metadata": {
  "kernelspec": {
   "display_name": "Python 3",
   "language": "python",
   "name": "python3"
  },
  "language_info": {
   "codemirror_mode": {
    "name": "ipython",
    "version": 3
   },
   "file_extension": ".py",
   "mimetype": "text/x-python",
   "name": "python",
   "nbconvert_exporter": "python",
   "pygments_lexer": "ipython3",
   "version": "3.6.9"
  }
 },
 "nbformat": 4,
 "nbformat_minor": 5
}
