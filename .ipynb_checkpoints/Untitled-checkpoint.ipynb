{
 "cells": [
  {
   "cell_type": "code",
   "execution_count": 16,
   "id": "847fee8d",
   "metadata": {},
   "outputs": [
    {
     "name": "stdout",
     "output_type": "stream",
     "text": [
      "xlsx\n",
      "/home/imade/notebook/input/Liste des 2èmes années DS_(2).xlsx\n",
      "searching for new files!\n",
      "searching for new files!\n"
     ]
    }
   ],
   "source": [
    "import re\n",
    "import os\n",
    "full_path=\"/home/imade/notebook/input/\" #root path for checking\n",
    "filepattern=r\"\\b(\\w*.xlsx)\" #pattern used when checking domaine/date/file_json\n",
    "extention = filepattern.split(\".\")[1].replace(\")\",\"\")\n",
    "print(extention)\n",
    "filepattern = full_path.replace(\"/\",\"\\/\")+filepattern\n",
    "file_pattern = re.compile(filepattern)\n",
    "try:\n",
    "#######################################\n",
    "  for dirpath, subdirs, files in os.walk(full_path):\n",
    "        for x in files:\n",
    "            print(os.path.join(dirpath, x))\n",
    "            if re.match(file_pattern, os.path.join(dirpath, x)):\n",
    "                print(os.path.join(dirpath, x))\n",
    "        #               context['task_instance'].xcom_push('file_name', str(os.path.join(dirpath, x)))\n",
    "        #               return True\n",
    "        print(\"searching for new files!\")\n",
    "#   return False\n",
    "except:\n",
    "    print(\"Trying hard to find a file that match with this pattern\",filepattern)\n",
    "#     return False"
   ]
  }
 ],
 "metadata": {
  "kernelspec": {
   "display_name": "Python 3",
   "language": "python",
   "name": "python3"
  },
  "language_info": {
   "codemirror_mode": {
    "name": "ipython",
    "version": 3
   },
   "file_extension": ".py",
   "mimetype": "text/x-python",
   "name": "python",
   "nbconvert_exporter": "python",
   "pygments_lexer": "ipython3",
   "version": "3.6.9"
  }
 },
 "nbformat": 4,
 "nbformat_minor": 5
}
